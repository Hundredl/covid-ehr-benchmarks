{
 "cells": [
  {
   "cell_type": "code",
   "execution_count": null,
   "metadata": {},
   "outputs": [],
   "source": [
    "# Import necessary packages\n",
    "import pandas as pd\n",
    "from omegaconf import OmegaConf"
   ]
  },
  {
   "cell_type": "code",
   "execution_count": null,
   "metadata": {},
   "outputs": [],
   "source": [
    "# Global configs\n",
    "yaml_cfg = \"\"\"\n",
    "train_data_path: ./raw_data/time_series_375_prerpocess_en.xlsx\n",
    "test_data_path: ./raw_data/time_series_test_110_preprocess_en.xlsx\n",
    "seed: 42\n",
    "\"\"\"\n",
    "config = OmegaConf.create(yaml_cfg)\n",
    "print(config.seed)\n"
   ]
  },
  {
   "cell_type": "code",
   "execution_count": null,
   "metadata": {},
   "outputs": [],
   "source": [
    "# Read raw data\n",
    "df_train: pd.DataFrame = pd.read_excel(config.train_data_path)\n",
    "print(df_train.describe())"
   ]
  },
  {
   "cell_type": "markdown",
   "metadata": {},
   "source": [
    "Steps:\n",
    "\n",
    "- fill `patient_id` and only reserve y-m-d for `RE_DATE` column\n",
    "- merge lab tests of the same (patient_id, date)\n",
    "- normalize data\n",
    "- feature selection\n",
    "- fill missing data (our filling strategy will be described below)\n",
    "- combine above data to time series data (one patient one record)\n",
    "- export to python pickle file"
   ]
  },
  {
   "cell_type": "code",
   "execution_count": null,
   "metadata": {},
   "outputs": [],
   "source": [
    "# fill `patient_id` rows\n",
    "df_train['PATIENT_ID'].fillna(method='ffill', inplace=True)\n",
    "\n",
    "# only reserve y-m-d for `RE_DATE` column\n",
    "df_train['RE_DATE'] = df_train['RE_DATE'].dt.strftime('%Y-%m-%d')\n",
    "print(df_train)"
   ]
  },
  {
   "cell_type": "code",
   "execution_count": null,
   "metadata": {},
   "outputs": [],
   "source": [
    "# merge lab tests of the same (patient_id, date)\n",
    "df_train = df_train.groupby(['PATIENT_ID', 'RE_DATE']).mean()\n",
    "print(df_train)"
   ]
  },
  {
   "cell_type": "code",
   "execution_count": null,
   "metadata": {},
   "outputs": [],
   "source": [
    "features_str = \"\"\"Hypersensitive cardiac troponinI\themoglobin\tSerum chloride\tProthrombin time\tprocalcitonin\teosinophils(%)\tInterleukin 2 receptor\tAlkaline phosphatase\talbumin\tbasophil(%)\tInterleukin 10\tTotal bilirubin\tPlatelet count\tmonocytes(%)\tantithrombin\tInterleukin 8\tindirect bilirubin\tRed blood cell distribution width \tneutrophils(%)\ttotal protein\tQuantification of Treponema pallidum antibodies\tProthrombin activity\tHBsAg\tmean corpuscular volume\thematocrit\tWhite blood cell count\tTumor necrosis factorα\tmean corpuscular hemoglobin concentration\tfibrinogen\tInterleukin 1β\tUrea\tlymphocyte count\tPH value\tRed blood cell count\tEosinophil count\tCorrected calcium\tSerum potassium\tglucose\tneutrophils count\tDirect bilirubin\tMean platelet volume\tferritin\tRBC distribution width SD\tThrombin time\t(%)lymphocyte\tHCV antibody quantification\tD-D dimer\tTotal cholesterol\taspartate aminotransferase\tUric acid\tHCO3-\tcalcium\tAmino-terminal brain natriuretic peptide precursor(NT-proBNP)\tLactate dehydrogenase\tplatelet large cell ratio \tInterleukin 6\tFibrin degradation products\tmonocytes count\tPLT distribution width\tglobulin\tγ-glutamyl transpeptidase\tInternational standard ratio\tbasophil count(#)\t2019-nCoV nucleic acid detection\tmean corpuscular hemoglobin \tActivation of partial thromboplastin time\tHypersensitive c-reactive protein\tHIV antibody quantification\tserum sodium\tthrombocytocrit\tESR\tglutamic-pyruvic transaminase\teGFR\tcreatinine\"\"\"\n",
    "features_to_normalize = features_str.split('\\t')\n",
    "print(features_to_normalize)\n"
   ]
  },
  {
   "cell_type": "code",
   "execution_count": null,
   "metadata": {},
   "outputs": [],
   "source": [
    "# normalize data\n",
    "def normalize_data(df):\n",
    "    df_features = df.iloc[:, 7:]\n",
    "    df_features = df_features.apply(lambda x: (x - x.mean()) / (x.std()+1e-12))\n",
    "    # print(df_features)\n",
    "    df = pd.concat([df.iloc[:,0:7], df_features], axis=1)\n",
    "    return df\n",
    "df_train = normalize_data(df_train)\n",
    "print(df_train)"
   ]
  },
  {
   "cell_type": "code",
   "execution_count": null,
   "metadata": {},
   "outputs": [],
   "source": [
    "def calculate_data_existing_length(data):\n",
    "    res = 0\n",
    "    for i in data:\n",
    "        if not pd.isna(i):\n",
    "            res += 1\n",
    "    return res\n",
    "# 默认 data 中的元素都是按时间排序的\n",
    "def our_fill(data, mean=0):\n",
    "    data_len = len(data)\n",
    "    data_exist_len = calculate_data_existing_length(data)\n",
    "    if data_len == data_exist_len:\n",
    "        return data\n",
    "    elif data_exist_len == 0:\n",
    "        for i in range(data_len):\n",
    "            data[i] = mean\n",
    "        return data\n",
    "    if pd.isna(data[0]):\n",
    "        # 只考虑length of data > 0\n",
    "        # 这一部分保证了data[0]非空\n",
    "        not_na_pos = 0\n",
    "        for i in range(data_len):\n",
    "            if not pd.isna(data[i]):\n",
    "                not_na_pos = i\n",
    "                break\n",
    "        for i in range(not_na_pos):\n",
    "            data[i] = data[not_na_pos]\n",
    "    for i in range(1, data_len):\n",
    "        if pd.isna(data[i]):\n",
    "            data[i] = data[i-1]\n",
    "    return data"
   ]
  },
  {
   "cell_type": "code",
   "execution_count": null,
   "metadata": {},
   "outputs": [],
   "source": [
    "# fill missing data using our strategy and convert to time series records\n",
    "features_to_fill = features_to_normalize\n",
    "grouped = df_train.groupby('PATIENT_ID')\n",
    "\n",
    "all_x = []\n",
    "all_y = []\n",
    "all_res = []  # 单个患者每次历史就诊的完整数据导出\n",
    "for name, group in grouped:\n",
    "    sorted_group = group.sort_values(by=['RE_DATE'], ascending=True)\n",
    "    print(df_train)\n",
    "    patient = []\n",
    "    for f in features_to_fill:\n",
    "        our_fill(sorted_group[f].values)\n",
    "    cur = 0\n",
    "    for _, i in sorted_group.iterrows():\n",
    "        if cur == 0:\n",
    "            all_y.append(i['outcome'])\n",
    "        cur += 1\n",
    "        # lab = [i['patient_id'], i['date'], i['co2'], i['wbc'], i['hgb'], i['ca'], i['k'], i['na'], i['cre'], i['p'], i['alb'], i['glu'], i['pre_weight'], i['pst_weight'],\n",
    "        #        i['pre_sys'], i['pst_sys'], i['pre_dia'], i['pst_dia'], i['pre_urea'], i['pst_urea'], i['bmi'], i['gender'], i['age'], i['origin_disease'], i['diabetes']]\n",
    "        # all_res.append([i['patient_id'],i['date'], i['co2'], i['wbc'], i['hgb'], i['ca'], i['k'], i['na'], i['cre'], i['p'], i['alb'], i['glu'], i['pre_weight'], i['pst_weight'],i['pre_sys'], i['pst_sys'], i['pre_dia'], i['pst_dia'], i['pre_urea'], i['pst_urea'], i['bmi'], i['gender'], i['age'], i['origin_disease'], i['diabetes'], i['death']])\n",
    "        # patient.append(lab)\n",
    "    all_x.append(patient)\n",
    "\n",
    "# all_x (三维数组，每个患者的各个指标)\n",
    "# all_y (患者结局)\n",
    "print(all_y)"
   ]
  }
 ],
 "metadata": {
  "interpreter": {
   "hash": "7dcfc096ef13b95f30f09234d13c16e463dbf760c5a41a06cf3b4dd8ab5dccc1"
  },
  "kernelspec": {
   "display_name": "Python 3.9.7 ('data')",
   "language": "python",
   "name": "python3"
  },
  "language_info": {
   "codemirror_mode": {
    "name": "ipython",
    "version": 3
   },
   "file_extension": ".py",
   "mimetype": "text/x-python",
   "name": "python",
   "nbconvert_exporter": "python",
   "pygments_lexer": "ipython3",
   "version": "3.9.5"
  },
  "orig_nbformat": 4
 },
 "nbformat": 4,
 "nbformat_minor": 2
}
