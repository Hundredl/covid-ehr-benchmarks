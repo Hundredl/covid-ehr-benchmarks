{
 "cells": [
  {
   "cell_type": "code",
   "execution_count": null,
   "metadata": {},
   "outputs": [],
   "source": [
    "# Import necessary packages\n",
    "import pandas as pd\n",
    "from omegaconf import OmegaConf"
   ]
  },
  {
   "cell_type": "code",
   "execution_count": null,
   "metadata": {},
   "outputs": [],
   "source": [
    "# Global configs\n",
    "yaml_cfg = \"\"\"\n",
    "train_data_path: ./raw_data/time_series_375_prerpocess_en.xlsx\n",
    "test_data_path: ./raw_data/time_series_test_110_preprocess_en.xlsx\n",
    "seed: 42\n",
    "predict_target: outcome # LOS\n",
    "\"\"\"\n",
    "config = OmegaConf.create(yaml_cfg)\n",
    "print(config.seed)\n"
   ]
  },
  {
   "cell_type": "code",
   "execution_count": null,
   "metadata": {},
   "outputs": [],
   "source": [
    "# Read raw data\n",
    "df_train: pd.DataFrame = pd.read_excel(config.train_data_path)"
   ]
  },
  {
   "cell_type": "markdown",
   "metadata": {},
   "source": [
    "Steps:\n",
    "\n",
    "- fill `patient_id`\n",
    "- add 2 new columns: total days in hospital (`TOT_DAY`), remaining days in hospital (`LOS`)\n",
    "- only reserve y-m-d for `RE_DATE` column\n",
    "- merge lab tests of the same (patient_id, date)\n",
    "- normalize data\n",
    "- feature selection\n",
    "- fill missing data (our filling strategy will be described below)\n",
    "- combine above data to time series data (one patient one record)\n",
    "- export to python pickle file"
   ]
  },
  {
   "cell_type": "code",
   "execution_count": null,
   "metadata": {},
   "outputs": [],
   "source": [
    "# fill `patient_id` rows\n",
    "df_train['PATIENT_ID'].fillna(method='ffill', inplace=True)\n",
    "\n",
    "# add 2 new columns: total days in hospital (`TOT_DAY`), remaining days in hospital (`LOS`)\n",
    "df_train['LOS'] = (df_train['Discharge time'] - df_train['RE_DATE']).dt.days\n",
    "df_train['TOT_DAY'] = (df_train['Discharge time'] - df_train['Admission time']).dt.days\n",
    "\n",
    "# only reserve y-m-d for `RE_DATE` column\n",
    "df_train['RE_DATE'] = df_train['RE_DATE'].dt.strftime('%Y-%m-%d')"
   ]
  },
  {
   "cell_type": "code",
   "execution_count": null,
   "metadata": {},
   "outputs": [],
   "source": [
    "# merge lab tests of the same (patient_id, date)\n",
    "df_train = df_train.groupby(['PATIENT_ID', 'RE_DATE']).mean()\n"
   ]
  },
  {
   "cell_type": "code",
   "execution_count": null,
   "metadata": {},
   "outputs": [],
   "source": [
    "features_str = \"\"\"age\n",
    "gender\n",
    "White blood cell count\n",
    "Red blood cell count\n",
    "Serum potassium\n",
    "calcium\n",
    "hemoglobin\n",
    "Serum chloride\n",
    "serum sodium\n",
    "Platelet count\n",
    "neutrophils(%)\n",
    "neutrophils count\n",
    "mean corpuscular hemoglobin \n",
    "Urea\n",
    "eGFR\n",
    "aspartate aminotransferase\n",
    "Lactate dehydrogenase\n",
    "total protein\n",
    "Alkaline phosphatase\n",
    "Total bilirubin\n",
    "γ-glutamyl transpeptidase\n",
    "glucose\n",
    "Hypersensitive c-reactive protein\n",
    "Prothrombin time\n",
    "Prothrombin activity\n",
    "Hypersensitive cardiac troponinI\n",
    "Amino-terminal brain natriuretic peptide precursor(NT-proBNP)\"\"\"\n",
    "\n",
    "features = [f for f in features_str.split('\\n')]\n",
    "print(features)\n",
    "# print(df_train[features])\n",
    "\n",
    "# we have 2 types of prediction tasks: 1) predict mortality outcome, 2) length of stay\n",
    "\n",
    "# df_train.to_csv('a.csv')"
   ]
  },
  {
   "cell_type": "code",
   "execution_count": null,
   "metadata": {},
   "outputs": [],
   "source": [
    "# normalize data\n",
    "def normalize_data(df):\n",
    "    df_features = df[features]\n",
    "    df_features = df_features.apply(lambda x: (x - x.mean()) / (x.std()+1e-12))\n",
    "    # print(df_features)\n",
    "    df = pd.concat([df[['outcome', 'LOS']], df_features], axis=1)\n",
    "    return df\n",
    "df_train = normalize_data(df_train)\n",
    "# print(df_train)\n",
    "df_train.to_csv('a.csv')"
   ]
  },
  {
   "cell_type": "code",
   "execution_count": null,
   "metadata": {},
   "outputs": [],
   "source": [
    "def calculate_data_existing_length(data):\n",
    "    res = 0\n",
    "    for i in data:\n",
    "        if not pd.isna(i):\n",
    "            res += 1\n",
    "    return res\n",
    "# 默认 data 中的元素都是按时间排序的\n",
    "def our_fill(data, mean=0):\n",
    "    data_len = len(data)\n",
    "    data_exist_len = calculate_data_existing_length(data)\n",
    "    if data_len == data_exist_len:\n",
    "        return data\n",
    "    elif data_exist_len == 0:\n",
    "        for i in range(data_len):\n",
    "            data[i] = mean\n",
    "        return data\n",
    "    if pd.isna(data[0]):\n",
    "        # 只考虑length of data > 0\n",
    "        # 这一部分保证了data[0]非空\n",
    "        not_na_pos = 0\n",
    "        for i in range(data_len):\n",
    "            if not pd.isna(data[i]):\n",
    "                not_na_pos = i\n",
    "                break\n",
    "        for i in range(not_na_pos):\n",
    "            data[i] = data[not_na_pos]\n",
    "    for i in range(1, data_len):\n",
    "        if pd.isna(data[i]):\n",
    "            data[i] = data[i-1]\n",
    "    return data"
   ]
  },
  {
   "cell_type": "code",
   "execution_count": null,
   "metadata": {},
   "outputs": [],
   "source": [
    "# fill missing data using our strategy and convert to time series records\n",
    "features_to_fill = features\n",
    "grouped = df_train.groupby('PATIENT_ID')\n",
    "\n",
    "all_x = []\n",
    "all_y = []\n",
    "\n",
    "for name, group in grouped:\n",
    "    sorted_group = group.sort_values(by=['RE_DATE'], ascending=True)\n",
    "    # print(df_train)\n",
    "    patient = []\n",
    "    patient_y = []\n",
    "    for f in features_to_fill:\n",
    "        our_fill(sorted_group[f].values)\n",
    "    for _, i in sorted_group.iterrows():\n",
    "        patient_y.append(i[config.predict_target])\n",
    "        lab = []\n",
    "        for f in features:\n",
    "            lab.append(i[f])\n",
    "        patient.append(lab)\n",
    "    all_x.append(patient)\n",
    "    all_y.append(patient_y[-1])\n",
    "\n",
    "# all_x (三维数组，每个患者的各个指标)\n",
    "# all_y (患者结局)\n",
    "# print(all_y)"
   ]
  },
  {
   "cell_type": "code",
   "execution_count": null,
   "metadata": {},
   "outputs": [],
   "source": [
    "# save pickle format dataset\n",
    "pd.to_pickle(all_x,f'./processed_data/train_x_{config.predict_target}_prediction.pkl' )\n",
    "pd.to_pickle(all_y,f'./processed_data/train_y_{config.predict_target}_prediction.pkl' )"
   ]
  }
 ],
 "metadata": {
  "interpreter": {
   "hash": "7dcfc096ef13b95f30f09234d13c16e463dbf760c5a41a06cf3b4dd8ab5dccc1"
  },
  "kernelspec": {
   "display_name": "Python 3.9.7 ('data')",
   "language": "python",
   "name": "python3"
  },
  "language_info": {
   "codemirror_mode": {
    "name": "ipython",
    "version": 3
   },
   "file_extension": ".py",
   "mimetype": "text/x-python",
   "name": "python",
   "nbconvert_exporter": "python",
   "pygments_lexer": "ipython3",
   "version": "3.9.5"
  },
  "orig_nbformat": 4
 },
 "nbformat": 4,
 "nbformat_minor": 2
}
