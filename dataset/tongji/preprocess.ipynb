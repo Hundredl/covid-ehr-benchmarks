{
 "cells": [
  {
   "cell_type": "code",
   "execution_count": null,
   "metadata": {},
   "outputs": [],
   "source": [
    "# Import necessary packages\n",
    "import pandas as pd\n",
    "from omegaconf import OmegaConf"
   ]
  },
  {
   "cell_type": "code",
   "execution_count": null,
   "metadata": {},
   "outputs": [],
   "source": [
    "# Global configs\n",
    "yaml_cfg = \"\"\"\n",
    "seed: 42\n",
    "\"\"\"\n",
    "config = OmegaConf.create(yaml_cfg)\n",
    "print(config.seed)\n"
   ]
  },
  {
   "cell_type": "code",
   "execution_count": null,
   "metadata": {},
   "outputs": [],
   "source": [
    "# Read raw data\n",
    "df_train: pd.DataFrame = pd.read_excel('./raw_data/time_series_375_prerpocess_en.xlsx')\n",
    "print(df_train.describe())"
   ]
  },
  {
   "cell_type": "markdown",
   "metadata": {},
   "source": [
    "Steps:\n",
    "\n",
    "- fill `patient_id` and only reserve y-m-d for `RE_DATE` column\n",
    "- merge lab tests in the same date\n",
    "- normalize data\n",
    "- fill missing data (several options)\n",
    "- feature selection\n",
    "- combine above data to time series data (one patient one record)\n",
    "- export to python pickle file"
   ]
  },
  {
   "cell_type": "code",
   "execution_count": null,
   "metadata": {},
   "outputs": [],
   "source": [
    "df_train['PATIENT_ID'].fillna(method='ffill', inplace=True)\n",
    "df_train['RE_DATE'] = df_train['RE_DATE'].dt.strftime('%Y-%m-%d')\n",
    "print(df_train)"
   ]
  },
  {
   "cell_type": "code",
   "execution_count": null,
   "metadata": {},
   "outputs": [],
   "source": [
    "# For the same patient and the same date, merge multiple lab tests into one data frame\n",
    "\n",
    "def merge_lab_test(df: pd.DataFrame) -> pd.DataFrame:\n",
    "    dates = pd.to_datetime(df_train['RE_DATE'], format='%Y%m%d')\n",
    "    print(dates.dt.strftime('%Y-%m-%d'))\n",
    "    return df\n",
    "\n",
    "df = merge_lab_test(df_train)\n",
    "print(df['date'])"
   ]
  },
  {
   "cell_type": "code",
   "execution_count": null,
   "metadata": {},
   "outputs": [],
   "source": []
  }
 ],
 "metadata": {
  "interpreter": {
   "hash": "7dcfc096ef13b95f30f09234d13c16e463dbf760c5a41a06cf3b4dd8ab5dccc1"
  },
  "kernelspec": {
   "display_name": "Python 3.9.7 ('data')",
   "language": "python",
   "name": "python3"
  },
  "language_info": {
   "codemirror_mode": {
    "name": "ipython",
    "version": 3
   },
   "file_extension": ".py",
   "mimetype": "text/x-python",
   "name": "python",
   "nbconvert_exporter": "python",
   "pygments_lexer": "ipython3",
   "version": "3.9.5"
  },
  "orig_nbformat": 4
 },
 "nbformat": 4,
 "nbformat_minor": 2
}
