{
 "cells": [
  {
   "cell_type": "code",
   "execution_count": null,
   "metadata": {},
   "outputs": [],
   "source": [
    "# Import necessary packages\n",
    "import pandas as pd\n",
    "import numpy as np\n",
    "from omegaconf import OmegaConf"
   ]
  },
  {
   "cell_type": "code",
   "execution_count": null,
   "metadata": {},
   "outputs": [],
   "source": [
    "# Global configs\n",
    "yaml_cfg = \"\"\"\n",
    "train_data_path: ./raw_data/hm_demo.csv\n",
    "seed: 42\n",
    "predict_target: outcome # outcome/LOS\n",
    "\"\"\"\n",
    "config = OmegaConf.create(yaml_cfg)\n",
    "print(config.seed)\n"
   ]
  },
  {
   "cell_type": "code",
   "execution_count": null,
   "metadata": {},
   "outputs": [],
   "source": [
    "# Read raw data\n",
    "df_demo: pd.DataFrame = pd.read_csv(\"./raw_data/hm_demo.csv\", encoding='unicode_escape', sep=\",\")\n",
    "df_labtest: pd.DataFrame = pd.read_csv(\"./raw_data/hm_labtest.csv\", encoding='unicode_escape', sep=\",\")\n"
   ]
  },
  {
   "cell_type": "code",
   "execution_count": null,
   "metadata": {},
   "outputs": [],
   "source": [
    "df_demo['SEX'].replace('MALE', 1, inplace=True)\n",
    "df_demo['SEX'].replace('FEMALE', 0, inplace=True)\n",
    "df_demo.rename(columns={'IDINGRESO': 'PATIENT_ID', 'EDAD': 'AGE', 'DIAGNOSTICO_ING': 'outcome'}, inplace=True)\n",
    "df_demo['outcome'].replace('COVID19 - POSITIVO', 1, inplace=True)\n",
    "df_demo['outcome'].replace('COVID19 - PENDIENTE', 0, inplace=True)\n",
    "\n",
    "cols_str = \"\"\"AGE\tTA_MAX_PRIMERA_URG\tTA_MIN_PRIMERA_URG\tTEMP_PRIMERA_URG\tFC_PRIMERA_URG\tSAT_02_PRIMERA_URG\tGLU_PRIMERA_URG\tDIURESIS_PRIMERA_URG\tHORA_CONSTANTES_ULTIMA_URG\tTA_MAX_ULTIMA_URG\tTA_MIN_ULTIMA_URG\tTEMP_ULTIMA_URG\tFC_ULTIMA_URG\tSAT_02_ULTIMA_URG\tGLU_ULTIMA_URG\"\"\"\n",
    "cols = cols_str.strip().split()\n",
    "df_demo[cols] = df_demo[cols].replace([0, 0.0, '0'], np.nan)"
   ]
  },
  {
   "cell_type": "code",
   "execution_count": null,
   "metadata": {},
   "outputs": [],
   "source": [
    "df_demo.to_csv('demo.csv', index=False)\n",
    "df_demo"
   ]
  },
  {
   "cell_type": "code",
   "execution_count": null,
   "metadata": {},
   "outputs": [],
   "source": [
    "labtest_features = df_labtest['DETERMINACION/ITEM_LAB'].unique()\n",
    "labtest_features[0:10]\n",
    "len(labtest_features)"
   ]
  },
  {
   "cell_type": "code",
   "execution_count": null,
   "metadata": {},
   "outputs": [],
   "source": [
    "df_labtest.rename(columns={'PATIENT ID': 'PATIENT_ID'}, inplace=True)\n",
    "df_labtest = df_labtest[['PATIENT_ID', 'FECHA_PETICION/LAB_DATE', 'DETERMINACION/ITEM_LAB', 'PETICION_LABORATORIO/LAB_NUMBER', 'RESULTADO/VAL_RESULT']].set_index(['PATIENT_ID', 'FECHA_PETICION/LAB_DATE', 'DETERMINACION/ITEM_LAB', 'PETICION_LABORATORIO/LAB_NUMBER'], drop = True).unstack('DETERMINACION/ITEM_LAB')['RESULTADO/VAL_RESULT'].reset_index()"
   ]
  },
  {
   "cell_type": "code",
   "execution_count": null,
   "metadata": {},
   "outputs": [],
   "source": [
    "df_labtest.to_csv('labtest.csv', index=False)\n",
    "df_labtest"
   ]
  },
  {
   "cell_type": "code",
   "execution_count": null,
   "metadata": {},
   "outputs": [],
   "source": [
    "df_train = df_labtest.set_index('PATIENT_ID').join(df_demo.set_index('PATIENT_ID')).reset_index()\n",
    "\n",
    "# df_train.dropna(subset=['FECHA_PETICION/LAB_DATE', 'F_INGRESO_ING', 'F_ALTA_ING'], how='any', inplace=True)\n",
    "\n",
    "df_train['FECHA_PETICION/LAB_DATE'] = df_train['FECHA_PETICION/LAB_DATE'].str.replace('/','-')\n",
    "df_train['F_INGRESO_ING'] = df_train['F_INGRESO_ING'].str.replace('/','-')\n",
    "df_train['F_ALTA_ING'] = df_train['F_ALTA_ING'].str.replace('/','-')\n",
    "\n",
    "# df_train['FECHA_PETICION/LAB_DATE'] = pd.to_datetime(df_train['FECHA_PETICION/LAB_DATE']).apply(lambda x: x.date())\n",
    "# df_train['F_INGRESO_ING'] = pd.to_datetime(df_train['F_INGRESO_ING']).apply(lambda x: x.date())\n",
    "# df_train['F_ALTA_ING'] = pd.to_datetime(df_train['F_ALTA_ING']).apply(lambda x: x.date())\n",
    "\n",
    "df_train['FECHA_PETICION/LAB_DATE'] = pd.to_datetime(df_train['FECHA_PETICION/LAB_DATE'], format='%d-%m-%Y', errors='coerce')\n",
    "df_train['F_INGRESO_ING'] = pd.to_datetime(df_train['F_INGRESO_ING'], format='%d-%m-%Y %H:%M:%S', errors='coerce')\n",
    "df_train['F_ALTA_ING'] = pd.to_datetime(df_train['F_ALTA_ING'], format='%d-%m-%Y %H:%M:%S', errors='coerce')\n",
    "\n",
    "df_train.dropna(subset=['FECHA_PETICION/LAB_DATE', 'F_INGRESO_ING', 'F_ALTA_ING'], how='any', inplace=True)\n",
    "df_train.to_csv('train.csv', index=False)\n",
    "df_train"
   ]
  },
  {
   "cell_type": "code",
   "execution_count": null,
   "metadata": {},
   "outputs": [],
   "source": [
    "df_train['F_ALTA_ING']\n",
    "# df_train['FECHA_PETICION/LAB_DATE'].describe()\n",
    "# df_train['F_INGRESO_ING'].describe()\n",
    "# df_train['LOS'] = (df_train['F_ALTA_ING'] - df_train['FECHA_PETICION/LAB_DATE']).dt.days\n",
    "# df_train['TOT_DAY'] = (df_train['F_ALTA_ING'] - df_train['F_INGRESO_ING']).dt.days"
   ]
  },
  {
   "cell_type": "code",
   "execution_count": null,
   "metadata": {},
   "outputs": [],
   "source": [
    "df_train"
   ]
  }
 ],
 "metadata": {
  "interpreter": {
   "hash": "7dcfc096ef13b95f30f09234d13c16e463dbf760c5a41a06cf3b4dd8ab5dccc1"
  },
  "kernelspec": {
   "display_name": "Python 3.9.7 ('data')",
   "language": "python",
   "name": "python3"
  },
  "language_info": {
   "codemirror_mode": {
    "name": "ipython",
    "version": 3
   },
   "file_extension": ".py",
   "mimetype": "text/x-python",
   "name": "python",
   "nbconvert_exporter": "python",
   "pygments_lexer": "ipython3",
   "version": "3.9.5"
  },
  "orig_nbformat": 4
 },
 "nbformat": 4,
 "nbformat_minor": 2
}
