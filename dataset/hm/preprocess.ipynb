{
 "cells": [
  {
   "cell_type": "code",
   "execution_count": null,
   "metadata": {},
   "outputs": [],
   "source": [
    "# Import necessary packages\n",
    "import pandas as pd\n",
    "import numpy as np\n",
    "from omegaconf import OmegaConf"
   ]
  },
  {
   "cell_type": "code",
   "execution_count": null,
   "metadata": {},
   "outputs": [],
   "source": [
    "# Global configs\n",
    "yaml_cfg = \"\"\"\n",
    "train_data_path: ./raw_data/hm_demo.csv\n",
    "seed: 42\n",
    "predict_target: outcome # outcome/LOS\n",
    "\"\"\"\n",
    "config = OmegaConf.create(yaml_cfg)\n",
    "print(config.seed)\n"
   ]
  },
  {
   "cell_type": "code",
   "execution_count": null,
   "metadata": {},
   "outputs": [],
   "source": [
    "# Read raw data\n",
    "df_demo: pd.DataFrame = pd.read_csv(\"./raw_data/hm_demo.csv\", encoding='unicode_escape', sep=\",\")\n",
    "df_labtest: pd.DataFrame = pd.read_csv(\"./raw_data/hm_labtest.csv\", encoding='unicode_escape', sep=\",\")\n"
   ]
  },
  {
   "cell_type": "code",
   "execution_count": null,
   "metadata": {},
   "outputs": [],
   "source": [
    "df_demo['SEX'].replace('MALE', 1, inplace=True)\n",
    "df_demo['SEX'].replace('FEMALE', 0, inplace=True)\n",
    "df_demo.rename(columns={'IDINGRESO': 'PATIENT_ID', 'EDAD': 'AGE', 'DIAGNOSTICO_ING': 'outcome'}, inplace=True)\n",
    "df_demo['outcome'].replace('COVID19 - POSITIVO', 1, inplace=True)\n",
    "df_demo['outcome'].replace('COVID19 - PENDIENTE', 0, inplace=True)\n",
    "\n",
    "cols_str = \"\"\"AGE\tTA_MAX_PRIMERA_URG\tTA_MIN_PRIMERA_URG\tTEMP_PRIMERA_URG\tFC_PRIMERA_URG\tSAT_02_PRIMERA_URG\tGLU_PRIMERA_URG\tDIURESIS_PRIMERA_URG\tHORA_CONSTANTES_ULTIMA_URG\tTA_MAX_ULTIMA_URG\tTA_MIN_ULTIMA_URG\tTEMP_ULTIMA_URG\tFC_ULTIMA_URG\tSAT_02_ULTIMA_URG\tGLU_ULTIMA_URG\"\"\"\n",
    "cols = cols_str.strip().split()\n",
    "df_demo[cols] = df_demo[cols].replace([0, 0.0, '0'], np.nan)"
   ]
  },
  {
   "cell_type": "code",
   "execution_count": null,
   "metadata": {},
   "outputs": [],
   "source": [
    "df_demo.to_csv('train.csv', index=False)\n",
    "df_demo"
   ]
  },
  {
   "cell_type": "code",
   "execution_count": null,
   "metadata": {},
   "outputs": [],
   "source": []
  }
 ],
 "metadata": {
  "interpreter": {
   "hash": "7dcfc096ef13b95f30f09234d13c16e463dbf760c5a41a06cf3b4dd8ab5dccc1"
  },
  "kernelspec": {
   "display_name": "Python 3.9.7 ('data')",
   "language": "python",
   "name": "python3"
  },
  "language_info": {
   "codemirror_mode": {
    "name": "ipython",
    "version": 3
   },
   "file_extension": ".py",
   "mimetype": "text/x-python",
   "name": "python",
   "nbconvert_exporter": "python",
   "pygments_lexer": "ipython3",
   "version": "3.9.5"
  },
  "orig_nbformat": 4
 },
 "nbformat": 4,
 "nbformat_minor": 2
}
