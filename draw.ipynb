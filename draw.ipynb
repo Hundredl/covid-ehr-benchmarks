{
 "cells": [
  {
   "cell_type": "code",
   "execution_count": null,
   "metadata": {},
   "outputs": [],
   "source": [
    "import numpy as np\n",
    "import pandas as pd\n",
    "from sklearn.calibration import calibration_curve\n",
    "from sklearn.metrics import roc_curve, precision_recall_curve\n",
    "import torch\n",
    "# matplotlib\n",
    "import matplotlib.pyplot as plt\n",
    "import matplotlib.lines as mlines\n",
    "import matplotlib.transforms as mtransfor\n",
    "plt.style.use('seaborn')"
   ]
  },
  {
   "cell_type": "markdown",
   "metadata": {},
   "source": [
    "## Read models' outcome prediction result"
   ]
  },
  {
   "cell_type": "code",
   "execution_count": null,
   "metadata": {},
   "outputs": [],
   "source": [
    "tj_adacare = pd.read_pickle('./saved_pkl/tongji_adacare_outcome.pkl')\n",
    "tj_retain = pd.read_pickle('./saved_pkl/tongji_retain_outcome.pkl')\n",
    "tj_agent = pd.read_pickle('./saved_pkl/tongji_agent_outcome.pkl')\n",
    "\n",
    "hm_concare = pd.read_pickle('./saved_pkl/hm_concare_outcome.pkl')\n",
    "hm_adacare = pd.read_pickle('./saved_pkl/hm_adacare_outcome.pkl')\n",
    "hm_rnn = pd.read_pickle('./saved_pkl/hm_rnn_outcome.pkl')"
   ]
  },
  {
   "cell_type": "markdown",
   "metadata": {},
   "source": [
    "## ROC Plot"
   ]
  },
  {
   "cell_type": "code",
   "execution_count": null,
   "metadata": {},
   "outputs": [],
   "source": [
    "tj_adacare_outcome_true, tj_adacare_outcome_pred = tj_adacare['outcome_true'], tj_adacare['outcome_pred']\n",
    "tj_retain_outcome_true, tj_retain_outcome_pred = tj_retain['outcome_true'], tj_retain['outcome_pred']\n",
    "tj_agent_outcome_true, tj_agent_outcome_pred = tj_agent['outcome_true'], tj_agent['outcome_pred']\n",
    "\n",
    "hm_concare_outcome_true, hm_concare_outcome_pred = hm_concare['outcome_true'], hm_concare['outcome_pred']\n",
    "hm_adacare_outcome_true, hm_adacare_outcome_pred = hm_adacare['outcome_true'], hm_adacare['outcome_pred']\n",
    "hm_rnn_outcome_true, hm_rnn_outcome_pred = hm_rnn['outcome_true'], hm_rnn['outcome_pred']\n",
    "\n",
    "\n",
    "tj_random_probs = [0 for _ in range(len(tj_adacare_outcome_true))]\n",
    "tj_p_fpr, tj_p_tpr, _ = roc_curve(tj_adacare_outcome_true, tj_random_probs, pos_label=1)\n",
    "\n",
    "hm_random_probs = [0 for _ in range(len(hm_adacare_outcome_true))]\n",
    "hm_p_fpr, hm_p_tpr, _ = roc_curve(hm_adacare_outcome_true, hm_random_probs, pos_label=1)"
   ]
  },
  {
   "cell_type": "code",
   "execution_count": null,
   "metadata": {},
   "outputs": [],
   "source": [
    "# [TJH] plot roc curves\n",
    "\n",
    "tj_adacare_fpr, tj_adacare_tpr, thresh1 = roc_curve(tj_adacare_outcome_true, tj_adacare_outcome_pred, pos_label=1)\n",
    "tj_retain_fpr, tj_retain_tpr, thresh2 = roc_curve(tj_retain_outcome_true, tj_retain_outcome_pred, pos_label=1)\n",
    "tj_agent_fpr, tj_agent_tpr, thresh3 = roc_curve(tj_agent_outcome_true, tj_agent_outcome_pred, pos_label=1)\n",
    "\n",
    "plt.plot(tj_p_fpr, tj_p_tpr, linestyle='-.', color='grey', label='Chance')\n",
    "plt.plot(tj_adacare_fpr, tj_adacare_tpr, linestyle='solid',color='orange', label='AdaCare')\n",
    "plt.plot(tj_retain_fpr, tj_retain_tpr, linestyle='dashed',color='dodgerblue', label='RETAIN')\n",
    "plt.plot(tj_agent_fpr, tj_agent_tpr, linestyle='dotted',color='violet', label='Dr. Agent')\n",
    "\n",
    "# # title\n",
    "# plt.title('ROC curve')\n",
    "# x label\n",
    "plt.xlabel('False Positive Rate')\n",
    "# y label\n",
    "plt.ylabel('True Positive Rate')\n",
    "\n",
    "plt.legend(loc='lower right')\n",
    "plt.savefig('tjh_roc.pdf', dpi=500, format=\"pdf\", bbox_inches=\"tight\")\n",
    "plt.show();"
   ]
  },
  {
   "cell_type": "code",
   "execution_count": null,
   "metadata": {},
   "outputs": [],
   "source": [
    "# [CDSL] plot roc curves\n",
    "\n",
    "hm_concare_fpr, hm_concare_tpr, thresh1 = roc_curve(hm_concare_outcome_true, hm_concare_outcome_pred, pos_label=1)\n",
    "hm_adacare_fpr, hm_adacare_tpr, thresh2 = roc_curve(hm_adacare_outcome_true, hm_adacare_outcome_pred, pos_label=1)\n",
    "hm_rnn_fpr, hm_rnn_tpr, thresh3 = roc_curve(hm_rnn_outcome_true, hm_rnn_outcome_pred, pos_label=1)\n",
    "\n",
    "plt.plot(hm_p_fpr, hm_p_tpr, linestyle='-.', color='grey', label='Chance')\n",
    "plt.plot(hm_concare_fpr, hm_concare_tpr, linestyle='solid',color='orange', label='ConCare')\n",
    "plt.plot(hm_adacare_fpr, hm_adacare_tpr, linestyle='dashed',color='dodgerblue', label='AdaCare')\n",
    "plt.plot(hm_rnn_fpr, hm_rnn_tpr, linestyle='dotted',color='violet', label='RNN')\n",
    "\n",
    "# # title\n",
    "# plt.title('ROC curve')\n",
    "# x label\n",
    "plt.xlabel('False Positive Rate')\n",
    "# y label\n",
    "plt.ylabel('True Positive Rate')\n",
    "\n",
    "plt.legend(loc='lower right')\n",
    "plt.savefig('cdsl_roc.pdf', dpi=500, format=\"pdf\", bbox_inches=\"tight\")\n",
    "plt.show();"
   ]
  },
  {
   "cell_type": "markdown",
   "metadata": {},
   "source": [
    "## PRC Plot"
   ]
  },
  {
   "cell_type": "code",
   "execution_count": null,
   "metadata": {},
   "outputs": [],
   "source": [
    "# [TJH] plot precision-recall curves\n",
    "\n",
    "tj_adacare_precision, tj_adacare_recall, thresh1 = precision_recall_curve(tj_adacare_outcome_true, tj_adacare_outcome_pred, pos_label=1)\n",
    "tj_retain_precision, tj_retain_recall, thresh2 = precision_recall_curve(tj_retain_outcome_true, tj_retain_outcome_pred, pos_label=1)\n",
    "tj_agent_precision, tj_agent_recall, thresh3 = precision_recall_curve(tj_agent_outcome_true, tj_agent_outcome_pred, pos_label=1)\n",
    "\n",
    "plt.plot(tj_adacare_precision, tj_adacare_recall, linestyle='solid',color='orange', label='AdaCare')\n",
    "plt.plot(tj_retain_precision, tj_retain_recall, linestyle='dashed',color='dodgerblue', label='RETAIN')\n",
    "plt.plot(tj_agent_precision, tj_agent_recall, linestyle='dotted',color='violet', label='Dr. Agent')\n",
    "\n",
    "# # title\n",
    "# plt.title('PRC curve')\n",
    "# x label\n",
    "plt.xlabel('Recall')\n",
    "# y label\n",
    "plt.ylabel('Precision')\n",
    "\n",
    "plt.legend(loc='lower left')\n",
    "plt.savefig('tjh_prc.pdf', dpi=500, format=\"pdf\", bbox_inches=\"tight\")\n",
    "plt.show();"
   ]
  },
  {
   "cell_type": "code",
   "execution_count": null,
   "metadata": {},
   "outputs": [],
   "source": [
    "# [CDSL] plot precision-recall curves\n",
    "\n",
    "hm_concare_precision, hm_concare_recall, thresh1 = precision_recall_curve(hm_concare_outcome_true, hm_concare_outcome_pred, pos_label=1)\n",
    "hm_adacare_precision, hm_adacare_recall, thresh2 = precision_recall_curve(hm_adacare_outcome_true, hm_adacare_outcome_pred, pos_label=1)\n",
    "hm_rnn_precision, hm_rnn_recall, thresh3 = precision_recall_curve(hm_rnn_outcome_true, hm_rnn_outcome_pred, pos_label=1)\n",
    "\n",
    "plt.plot(hm_concare_precision, hm_concare_recall, linestyle='solid',color='orange', label='ConCare')\n",
    "plt.plot(hm_adacare_precision, hm_adacare_recall, linestyle='dashed',color='dodgerblue', label='AdaCare')\n",
    "plt.plot(hm_rnn_precision, hm_rnn_recall, linestyle='dotted',color='violet', label='RNN')\n",
    "\n",
    "# # title\n",
    "# plt.title('PRC curve')\n",
    "# x label\n",
    "plt.xlabel('Recall')\n",
    "# y label\n",
    "plt.ylabel('Precision')\n",
    "\n",
    "plt.legend(loc='lower left')\n",
    "plt.savefig('cdsl_prc.pdf', dpi=500, format=\"pdf\", bbox_inches=\"tight\")\n",
    "plt.show();"
   ]
  },
  {
   "cell_type": "markdown",
   "metadata": {},
   "source": [
    "## Calibration Plot"
   ]
  },
  {
   "cell_type": "code",
   "execution_count": null,
   "metadata": {},
   "outputs": [],
   "source": [
    "tj_adacare_prob_true, tj_adacare_prob_pred = calibration_curve(tj_adacare_outcome_true, tj_adacare_outcome_pred, n_bins=10)\n",
    "tj_retain_prob_true, tj_retain_prob_pred = calibration_curve(tj_retain_outcome_true, tj_retain_outcome_pred, n_bins=10)\n",
    "tj_agent_prob_true, tj_agent_prob_pred = calibration_curve(tj_agent_outcome_true, tj_agent_outcome_pred, n_bins=10)\n",
    "\n",
    "fig, ax = plt.subplots()\n",
    "# only these two lines are calibration curves\n",
    "plt.plot(tj_adacare_prob_pred, tj_adacare_prob_true, marker='o', linewidth=1, label='AdaCare')\n",
    "plt.plot(tj_retain_prob_pred, tj_retain_prob_true, marker='v', linewidth=1, label='RETAIN')\n",
    "plt.plot(tj_agent_prob_pred, tj_agent_prob_true, marker='s', linewidth=1, label='Dr. Agent')\n",
    "\n",
    "# reference line, legends, and axis labels\n",
    "line = mlines.Line2D([0, 1], [0, 1], linestyle='-.', color='grey')\n",
    "transform = ax.transAxes\n",
    "line.set_transform(transform)\n",
    "ax.add_line(line)\n",
    "ax.set_xlabel('Predicted probability')\n",
    "ax.set_ylabel('True probability in each bin')\n",
    "plt.legend(loc='lower right')\n",
    "plt.savefig('tjh_calibration.pdf', dpi=500, format=\"pdf\", bbox_inches=\"tight\")\n",
    "plt.show()"
   ]
  },
  {
   "cell_type": "code",
   "execution_count": null,
   "metadata": {},
   "outputs": [],
   "source": [
    "hm_concare_prob_true, hm_concare_prob_pred = calibration_curve(hm_concare_outcome_true, hm_concare_outcome_pred, n_bins=10)\n",
    "hm_adacare_prob_true, hm_adacare_prob_pred = calibration_curve(hm_adacare_outcome_true, hm_adacare_outcome_pred, n_bins=10)\n",
    "hm_rnn_prob_true, hm_rnn_prob_pred = calibration_curve(hm_rnn_outcome_true, hm_rnn_outcome_pred, n_bins=10)\n",
    "\n",
    "fig, ax = plt.subplots()\n",
    "# only these two lines are calibration curves\n",
    "plt.plot(hm_concare_prob_pred, hm_concare_prob_true, marker='o', linewidth=1, label='ConCare')\n",
    "plt.plot(hm_adacare_prob_pred, hm_adacare_prob_true, marker='v', linewidth=1, label='AdaCare')\n",
    "plt.plot(hm_rnn_prob_pred, hm_rnn_prob_true, marker='s', linewidth=1, label='RNN')\n",
    "\n",
    "# reference line, legends, and axis labels\n",
    "line = mlines.Line2D([0, 1], [0, 1], linestyle='-.', color='grey')\n",
    "transform = ax.transAxes\n",
    "line.set_transform(transform)\n",
    "ax.add_line(line)\n",
    "ax.set_xlabel('Predicted probability')\n",
    "ax.set_ylabel('True probability in each bin')\n",
    "plt.legend(loc='lower right')\n",
    "plt.savefig('cdsl_calibration.pdf', dpi=500, format=\"pdf\", bbox_inches=\"tight\")\n",
    "plt.show()"
   ]
  }
 ],
 "metadata": {
  "kernelspec": {
   "display_name": "Python 3.9.5 ('pytorch')",
   "language": "python",
   "name": "python3"
  },
  "language_info": {
   "codemirror_mode": {
    "name": "ipython",
    "version": 3
   },
   "file_extension": ".py",
   "mimetype": "text/x-python",
   "name": "python",
   "nbconvert_exporter": "python",
   "pygments_lexer": "ipython3",
   "version": "3.9.5"
  },
  "orig_nbformat": 4,
  "vscode": {
   "interpreter": {
    "hash": "e382889b16d65b8f9d2caeea05d88db6d501b8794eac9af8ee0956d5affe33e5"
   }
  }
 },
 "nbformat": 4,
 "nbformat_minor": 2
}
