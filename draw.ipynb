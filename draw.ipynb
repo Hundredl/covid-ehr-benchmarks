{
 "cells": [
  {
   "cell_type": "code",
   "execution_count": null,
   "metadata": {},
   "outputs": [],
   "source": [
    "import numpy as np\n",
    "import pandas as pd\n",
    "from sklearn.calibration import calibration_curve\n",
    "from sklearn.metrics import roc_curve, precision_recall_curve\n",
    "import torch\n",
    "from sklearn.decomposition import PCA\n",
    "from sklearn.manifold import TSNE\n",
    "# matplotlib\n",
    "import matplotlib.pyplot as plt\n",
    "import matplotlib.lines as mlines\n",
    "import matplotlib.transforms as mtransfor\n",
    "import seaborn as sns\n",
    "\n",
    "plt.style.use('default')\n",
    "plt.rcParams['axes.facecolor']='white'\n",
    "plt.rcParams.update({\"axes.grid\" : True, \"grid.color\": \"gainsboro\"})\n",
    "plt.rcParams['legend.frameon']=True\n",
    "plt.rcParams['legend.facecolor']='white'\n",
    "plt.rcParams['legend.edgecolor']='grey'\n",
    "plt.rcParams[\"axes.edgecolor\"] = \"black\"\n",
    "plt.rcParams[\"axes.linewidth\"]  = 1"
   ]
  },
  {
   "cell_type": "markdown",
   "metadata": {},
   "source": [
    "## Read models' outcome prediction result"
   ]
  },
  {
   "cell_type": "code",
   "execution_count": null,
   "metadata": {},
   "outputs": [],
   "source": [
    "tj_adacare = pd.read_pickle('./saved_pkl/tongji_adacare_outcome.pkl')\n",
    "tj_retain = pd.read_pickle('./saved_pkl/tongji_retain_outcome.pkl')\n",
    "tj_agent = pd.read_pickle('./saved_pkl/tongji_agent_outcome.pkl')\n",
    "\n",
    "hm_concare = pd.read_pickle('./saved_pkl/hm_concare_outcome.pkl')\n",
    "hm_adacare = pd.read_pickle('./saved_pkl/hm_adacare_outcome.pkl')\n",
    "hm_rnn = pd.read_pickle('./saved_pkl/hm_rnn_outcome.pkl')\n",
    "\n",
    "tj_adacare_outcome_true, tj_adacare_outcome_pred = tj_adacare['outcome_true'], tj_adacare['outcome_pred']\n",
    "tj_retain_outcome_true, tj_retain_outcome_pred = tj_retain['outcome_true'], tj_retain['outcome_pred']\n",
    "tj_agent_outcome_true, tj_agent_outcome_pred = tj_agent['outcome_true'], tj_agent['outcome_pred']\n",
    "\n",
    "hm_concare_outcome_true, hm_concare_outcome_pred = hm_concare['outcome_true'], hm_concare['outcome_pred']\n",
    "hm_adacare_outcome_true, hm_adacare_outcome_pred = hm_adacare['outcome_true'], hm_adacare['outcome_pred']\n",
    "hm_rnn_outcome_true, hm_rnn_outcome_pred = hm_rnn['outcome_true'], hm_rnn['outcome_pred']"
   ]
  },
  {
   "cell_type": "markdown",
   "metadata": {},
   "source": [
    "## ROC Plot"
   ]
  },
  {
   "cell_type": "code",
   "execution_count": null,
   "metadata": {},
   "outputs": [],
   "source": [
    "tj_random_probs = [0 for _ in range(len(tj_adacare_outcome_true))]\n",
    "tj_p_fpr, tj_p_tpr, _ = roc_curve(tj_adacare_outcome_true, tj_random_probs, pos_label=1)\n",
    "\n",
    "hm_random_probs = [0 for _ in range(len(hm_adacare_outcome_true))]\n",
    "hm_p_fpr, hm_p_tpr, _ = roc_curve(hm_adacare_outcome_true, hm_random_probs, pos_label=1)"
   ]
  },
  {
   "cell_type": "code",
   "execution_count": null,
   "metadata": {},
   "outputs": [],
   "source": [
    "# [TJH] plot roc curves\n",
    "\n",
    "tj_adacare_fpr, tj_adacare_tpr, thresh1 = roc_curve(tj_adacare_outcome_true, tj_adacare_outcome_pred, pos_label=1)\n",
    "tj_retain_fpr, tj_retain_tpr, thresh2 = roc_curve(tj_retain_outcome_true, tj_retain_outcome_pred, pos_label=1)\n",
    "tj_agent_fpr, tj_agent_tpr, thresh3 = roc_curve(tj_agent_outcome_true, tj_agent_outcome_pred, pos_label=1)\n",
    "\n",
    "plt.plot(tj_p_fpr, tj_p_tpr, linestyle='-.', color='grey', label='Random')\n",
    "plt.plot(tj_adacare_fpr, tj_adacare_tpr, linestyle='solid',color='orange', label='AdaCare')\n",
    "plt.plot(tj_retain_fpr, tj_retain_tpr, linestyle='dashed',color='dodgerblue', label='RETAIN')\n",
    "plt.plot(tj_agent_fpr, tj_agent_tpr, linestyle='dotted',color='violet', label='Dr. Agent')\n",
    "\n",
    "# # title\n",
    "# plt.title('ROC curve')\n",
    "# x label\n",
    "plt.xlabel('False Positive Rate')\n",
    "# y label\n",
    "plt.ylabel('True Positive Rate')\n",
    "\n",
    "plt.legend(loc='lower right')\n",
    "\n",
    "plt.savefig('tjh_roc.pdf', dpi=500, format=\"pdf\", bbox_inches=\"tight\")\n",
    "plt.show();"
   ]
  },
  {
   "cell_type": "code",
   "execution_count": null,
   "metadata": {},
   "outputs": [],
   "source": [
    "# [CDSL] plot roc curves\n",
    "\n",
    "hm_concare_fpr, hm_concare_tpr, thresh1 = roc_curve(hm_concare_outcome_true, hm_concare_outcome_pred, pos_label=1)\n",
    "hm_adacare_fpr, hm_adacare_tpr, thresh2 = roc_curve(hm_adacare_outcome_true, hm_adacare_outcome_pred, pos_label=1)\n",
    "hm_rnn_fpr, hm_rnn_tpr, thresh3 = roc_curve(hm_rnn_outcome_true, hm_rnn_outcome_pred, pos_label=1)\n",
    "\n",
    "plt.plot(hm_p_fpr, hm_p_tpr, linestyle='-.', color='grey', label='Random')\n",
    "plt.plot(hm_concare_fpr, hm_concare_tpr, linestyle='solid',color='orange', label='ConCare')\n",
    "plt.plot(hm_adacare_fpr, hm_adacare_tpr, linestyle='dashed',color='dodgerblue', label='AdaCare')\n",
    "plt.plot(hm_rnn_fpr, hm_rnn_tpr, linestyle='dotted',color='violet', label='RNN')\n",
    "\n",
    "# # title\n",
    "# plt.title('ROC curve')\n",
    "# x label\n",
    "plt.xlabel('False positive rate')\n",
    "# y label\n",
    "plt.ylabel('True positive rate')\n",
    "\n",
    "plt.legend(loc='lower right')\n",
    "plt.savefig('cdsl_roc.pdf', dpi=500, format=\"pdf\", bbox_inches=\"tight\")\n",
    "plt.show();"
   ]
  },
  {
   "cell_type": "markdown",
   "metadata": {},
   "source": [
    "## PRC Plot"
   ]
  },
  {
   "cell_type": "code",
   "execution_count": null,
   "metadata": {},
   "outputs": [],
   "source": [
    "# [TJH] plot precision-recall curves\n",
    "\n",
    "tj_adacare_precision, tj_adacare_recall, thresh1 = precision_recall_curve(tj_adacare_outcome_true, tj_adacare_outcome_pred, pos_label=1)\n",
    "tj_retain_precision, tj_retain_recall, thresh2 = precision_recall_curve(tj_retain_outcome_true, tj_retain_outcome_pred, pos_label=1)\n",
    "tj_agent_precision, tj_agent_recall, thresh3 = precision_recall_curve(tj_agent_outcome_true, tj_agent_outcome_pred, pos_label=1)\n",
    "\n",
    "plt.plot(tj_adacare_precision, tj_adacare_recall, linestyle='solid',color='orange', label='AdaCare')\n",
    "plt.plot(tj_retain_precision, tj_retain_recall, linestyle='dashed',color='dodgerblue', label='RETAIN')\n",
    "plt.plot(tj_agent_precision, tj_agent_recall, linestyle='dotted',color='violet', label='Dr. Agent')\n",
    "\n",
    "# # title\n",
    "# plt.title('PRC curve')\n",
    "# x label\n",
    "plt.xlabel('Recall')\n",
    "# y label\n",
    "plt.ylabel('Precision')\n",
    "\n",
    "plt.legend(loc='lower left')\n",
    "plt.savefig('tjh_prc.pdf', dpi=500, format=\"pdf\", bbox_inches=\"tight\")\n",
    "plt.show();"
   ]
  },
  {
   "cell_type": "code",
   "execution_count": null,
   "metadata": {},
   "outputs": [],
   "source": [
    "# [CDSL] plot precision-recall curves\n",
    "\n",
    "hm_concare_precision, hm_concare_recall, thresh1 = precision_recall_curve(hm_concare_outcome_true, hm_concare_outcome_pred, pos_label=1)\n",
    "hm_adacare_precision, hm_adacare_recall, thresh2 = precision_recall_curve(hm_adacare_outcome_true, hm_adacare_outcome_pred, pos_label=1)\n",
    "hm_rnn_precision, hm_rnn_recall, thresh3 = precision_recall_curve(hm_rnn_outcome_true, hm_rnn_outcome_pred, pos_label=1)\n",
    "\n",
    "plt.plot(hm_concare_precision, hm_concare_recall, linestyle='solid',color='orange', label='ConCare')\n",
    "plt.plot(hm_adacare_precision, hm_adacare_recall, linestyle='dashed',color='dodgerblue', label='AdaCare')\n",
    "plt.plot(hm_rnn_precision, hm_rnn_recall, linestyle='dotted',color='violet', label='RNN')\n",
    "\n",
    "# # title\n",
    "# plt.title('PRC curve')\n",
    "# x label\n",
    "plt.xlabel('Recall')\n",
    "# y label\n",
    "plt.ylabel('Precision')\n",
    "\n",
    "plt.legend(loc='lower left')\n",
    "plt.savefig('cdsl_prc.pdf', dpi=500, format=\"pdf\", bbox_inches=\"tight\")\n",
    "plt.show();"
   ]
  },
  {
   "cell_type": "markdown",
   "metadata": {},
   "source": [
    "## Calibration Plot"
   ]
  },
  {
   "cell_type": "code",
   "execution_count": null,
   "metadata": {},
   "outputs": [],
   "source": [
    "tj_adacare_prob_true, tj_adacare_prob_pred = calibration_curve(tj_adacare_outcome_true, tj_adacare_outcome_pred, n_bins=10)\n",
    "tj_retain_prob_true, tj_retain_prob_pred = calibration_curve(tj_retain_outcome_true, tj_retain_outcome_pred, n_bins=10)\n",
    "tj_agent_prob_true, tj_agent_prob_pred = calibration_curve(tj_agent_outcome_true, tj_agent_outcome_pred, n_bins=10)\n",
    "\n",
    "fig, ax = plt.subplots()\n",
    "# only these two lines are calibration curves\n",
    "plt.plot(tj_adacare_prob_pred, tj_adacare_prob_true, marker='o', linewidth=1, label='AdaCare')\n",
    "plt.plot(tj_retain_prob_pred, tj_retain_prob_true, marker='v', linewidth=1, label='RETAIN')\n",
    "plt.plot(tj_agent_prob_pred, tj_agent_prob_true, marker='s', linewidth=1, label='Dr. Agent')\n",
    "\n",
    "# reference line, legends, and axis labels\n",
    "line = mlines.Line2D([0, 1], [0, 1], linestyle='-.', color='grey')\n",
    "transform = ax.transAxes\n",
    "line.set_transform(transform)\n",
    "ax.add_line(line)\n",
    "ax.set_xlabel('Predicted probability')\n",
    "ax.set_ylabel('True probability in each bin')\n",
    "plt.legend(loc='lower right')\n",
    "plt.savefig('tjh_calibration.pdf', dpi=500, format=\"pdf\", bbox_inches=\"tight\")\n",
    "plt.show()"
   ]
  },
  {
   "cell_type": "code",
   "execution_count": null,
   "metadata": {},
   "outputs": [],
   "source": [
    "hm_concare_prob_true, hm_concare_prob_pred = calibration_curve(hm_concare_outcome_true, hm_concare_outcome_pred, n_bins=10)\n",
    "hm_adacare_prob_true, hm_adacare_prob_pred = calibration_curve(hm_adacare_outcome_true, hm_adacare_outcome_pred, n_bins=10)\n",
    "hm_rnn_prob_true, hm_rnn_prob_pred = calibration_curve(hm_rnn_outcome_true, hm_rnn_outcome_pred, n_bins=10)\n",
    "\n",
    "fig, ax = plt.subplots()\n",
    "# only these two lines are calibration curves\n",
    "plt.plot(hm_concare_prob_pred, hm_concare_prob_true, marker='o', linewidth=1, label='ConCare')\n",
    "plt.plot(hm_adacare_prob_pred, hm_adacare_prob_true, marker='v', linewidth=1, label='AdaCare')\n",
    "plt.plot(hm_rnn_prob_pred, hm_rnn_prob_true, marker='s', linewidth=1, label='RNN')\n",
    "\n",
    "# reference line, legends, and axis labels\n",
    "line = mlines.Line2D([0, 1], [0, 1], linestyle='-.', color='grey')\n",
    "transform = ax.transAxes\n",
    "line.set_transform(transform)\n",
    "ax.add_line(line)\n",
    "ax.set_xlabel('Predicted probability')\n",
    "ax.set_ylabel('True probability in each bin')\n",
    "plt.legend(loc='lower right')\n",
    "plt.savefig('cdsl_calibration.pdf', dpi=500, format=\"pdf\", bbox_inches=\"tight\")\n",
    "plt.show()"
   ]
  },
  {
   "cell_type": "markdown",
   "metadata": {},
   "source": [
    "## Draw OSMAE/EMP scores on different threshold"
   ]
  },
  {
   "cell_type": "code",
   "execution_count": null,
   "metadata": {},
   "outputs": [],
   "source": [
    "covid_scores = pd.read_pickle('./saved_pkl/covid_evaluation_scores.pkl')\n",
    "emp, osmae, thresholds = covid_scores[\"emp\"][1::4], covid_scores[\"osmae\"][1::4], covid_scores[\"threshold\"][1::4]"
   ]
  },
  {
   "cell_type": "code",
   "execution_count": null,
   "metadata": {},
   "outputs": [],
   "source": [
    "## EMP Score\n",
    "ax = sns.regplot(x=thresholds, y=emp, marker=\"o\", color=\"g\", line_kws={\"color\": \"grey\", \"linestyle\": \"None\"}, ci=99.9999)\n",
    "plt.xlabel('Threshold γ')\n",
    "plt.ylabel('EMP score')\n",
    "\n",
    "plt.savefig('emp_trend.pdf', dpi=500, format=\"pdf\", bbox_inches=\"tight\")\n",
    "plt.show();"
   ]
  },
  {
   "cell_type": "code",
   "execution_count": null,
   "metadata": {},
   "outputs": [],
   "source": [
    "## OSMAE Score\n",
    "ax = sns.regplot(x=thresholds, y=osmae, marker=\"o\", color=\"dodgerblue\", line_kws={\"color\": \"grey\", \"linestyle\": \"None\"}, ci=99.9999)\n",
    "plt.xlabel('Threshold γ')\n",
    "plt.ylabel('OSMAE score')\n",
    "\n",
    "plt.savefig('osmae_trend.pdf', dpi=500, format=\"pdf\", bbox_inches=\"tight\")\n",
    "plt.show();"
   ]
  },
  {
   "cell_type": "markdown",
   "metadata": {},
   "source": [
    "## Draw hidden state PCA result on validation set"
   ]
  },
  {
   "cell_type": "code",
   "execution_count": null,
   "metadata": {},
   "outputs": [],
   "source": [
    "val_idx=[1010, 1915, 1656, 2952, 246, 2914, 3146, 2910, 914, 1335, 3046, 404, 2592, 2951, 309, 266, 471, 1112, 490, 3195, 2621, 2143, 1485, 893, 2803, 319, 3231, 2185, 771, 2811, 1950, 3615, 2537, 2546, 3750, 2284, 2122, 1817, 767, 2698, 1564, 3519, 1285, 2808, 1092, 3782, 1115, 1174, 1996, 2603, 3337, 2806, 1105, 2180, 1006, 1900, 3563, 808, 3613, 907, 2069, 1893, 1877, 2362, 2403, 693, 3425, 3501, 626, 244, 3101, 2255, 1661, 1723, 3688, 2571, 2222, 382, 1091, 1, 1884, 3559, 3450, 2648, 2246, 2757, 820, 3375, 1650, 2509, 3760, 2519, 27, 1751, 1964, 1571, 2471, 541, 815, 1094, 2749, 153, 2686, 544, 752, 3085, 1371, 2407, 3675, 1162, 1938, 1197, 3571, 2023, 2847, 1807, 1307, 793, 2610, 1469, 22, 1883, 396, 1098, 1704, 1450, 250, 1258, 3453, 2866, 1995, 2336, 1917, 1724, 3805, 41, 2461, 1241, 2376, 467, 3730, 3090, 3234, 3104, 183, 2827, 274, 1488, 1608, 2495, 3633, 3554, 2723, 3358, 2214, 2963, 3648, 3698, 1569, 3270, 1646, 2675, 2014, 2165, 3106, 2209, 2352, 3580, 3597, 659, 2349, 2074, 988, 1952, 3821, 2640, 3727, 3380, 2646, 3741, 1753, 679, 1707, 633, 1224, 1261, 1501, 1942, 935, 729, 3293, 3638, 2759, 1214, 3028, 3703, 2260, 1406, 2531, 737, 3462, 1495, 1728, 3366, 3510, 42, 3659, 2953, 2378, 1330, 3474, 1372, 89, 1153, 1825, 3218, 3068, 1888, 3287, 2071, 2082, 1460, 3761, 3480, 3424, 651, 1618, 1859, 960, 3344, 3725, 2942, 2176, 1651, 2936, 1187, 2060, 2021, 3317, 861, 1259, 241, 3528, 200, 2392, 1316, 2486, 2923, 923, 98, 3549, 1431, 534, 1840, 3208, 201, 3605, 1337, 877, 571, 3147, 2678, 460, 2970, 3161, 1409, 2304, 1955, 1338, 2364, 754, 3635, 3264, 2620, 889, 566, 744, 1848, 954, 812, 549, 1190, 745, 2371, 2590, 1759, 1710, 1203, 447, 2068, 2691, 245, 880, 122, 3182, 2997, 1934, 1139, 1491, 1166, 1368, 2030, 162, 1829, 766, 3447, 3451, 3386, 2667, 2162, 2096, 3215, 2133, 3620, 743, 1342, 3385, 446, 3557, 3305, 883, 3616, 2130, 1182, 1346, 530, 1732, 1233, 292, 3787, 2467, 3514, 230, 652, 908, 3318, 1213, 3548, 2957, 1552, 2290, 2036, 1102, 3276, 1897, 1886, 2384, 1625, 3143, 1711, 2457, 2832, 2056, 1746, 3361, 2271, 2532, 1981, 1097, 1008, 705, 3671, 2875, 2870, 1760, 582, 3014, 1524, 2682, 712, 916, 461, 474, 3245, 2337, 2077, 2715, 1765, 3409, 2826, 3734, 998, 3813, 233, 1336, 1880, 1703, 2607, 1663, 1476, 380, 3015, 1595, 132, 3737, 125, 2421, 981, 2966, 1961, 991, 3216, 723, 526, 660, 1309, 2529, 3004, 724, 2595, 2573, 354, 3352, 1436, 15, 1184, 3190, 1167, 1758, 81, 3407, 3669, 3141, 3801, 1953, 2898]"
   ]
  },
  {
   "cell_type": "code",
   "execution_count": null,
   "metadata": {},
   "outputs": [],
   "source": [
    "from app import models\n",
    "\n",
    "# model = models.RETAIN(input_dim=99, hidden_dim=128)"
   ]
  },
  {
   "cell_type": "code",
   "execution_count": null,
   "metadata": {},
   "outputs": [],
   "source": [
    "def extract_backbone_param(ckpt):\n",
    "    backbone = {}\n",
    "    for k,v in ckpt.items():\n",
    "        if \"backbone\" in k:\n",
    "            new_k = k.replace(\"backbone.\", \"\")\n",
    "            backbone[new_k] = v\n",
    "    return backbone"
   ]
  },
  {
   "cell_type": "code",
   "execution_count": null,
   "metadata": {},
   "outputs": [],
   "source": [
    "x = pd.read_pickle(\"datasets/hm/processed_data/x.pkl\")\n",
    "y = pd.read_pickle(\"datasets/hm/processed_data/y.pkl\")\n",
    "visits_length = pd.read_pickle(\"datasets/hm/processed_data/visits_length.pkl\")\n",
    "x = x[val_idx]\n",
    "y = y[val_idx]\n",
    "visits_length = visits_length[val_idx]\n",
    "device = torch.device(\"cpu\")"
   ]
  },
  {
   "cell_type": "code",
   "execution_count": null,
   "metadata": {},
   "outputs": [],
   "source": [
    "outcome_status=[]\n",
    "patient=[]\n",
    "for i in range(len(visits_length)):\n",
    "    outcome_status.append(y[i][visits_length[i]-1][0])\n",
    "    patient.append(x[i][visits_length[i]-1].detach().numpy())\n",
    "\n",
    "outcome_status = torch.tensor(outcome_status)\n",
    "patient = torch.tensor(patient)\n",
    "# outcome_status = y[:, 0, 0]\n",
    "outcome_status = outcome_status.unsqueeze(-1)\n",
    "# patient = x[:, 0, :]\n",
    "patient = torch.unsqueeze(patient, dim=1)\n",
    "patient = patient.float()"
   ]
  },
  {
   "cell_type": "code",
   "execution_count": null,
   "metadata": {},
   "outputs": [],
   "source": [
    "outcome_status.shape, patient.shape"
   ]
  },
  {
   "cell_type": "code",
   "execution_count": null,
   "metadata": {},
   "outputs": [],
   "source": [
    "def remove_outliers(df,columns,n_std):\n",
    "    for col in columns:\n",
    "        mean = df[col].mean()\n",
    "        sd = df[col].std()\n",
    "        df = df[abs(df[col]-mean) <= sd*n_std]\n",
    "    return df"
   ]
  },
  {
   "cell_type": "code",
   "execution_count": null,
   "metadata": {},
   "outputs": [],
   "source": [
    "n_std = 3\n",
    "approach = 'pca' # 'pca' or 'tsne'"
   ]
  },
  {
   "cell_type": "markdown",
   "metadata": {},
   "source": [
    "### Multitask Model"
   ]
  },
  {
   "cell_type": "code",
   "execution_count": null,
   "metadata": {},
   "outputs": [],
   "source": [
    "# model = models.RETAIN(input_dim=99, hidden_dim=128)\n",
    "hidden_dim=128\n",
    "model = models.ConCare(\n",
    "    lab_dim=97,\n",
    "    demo_dim=2,\n",
    "    hidden_dim=hidden_dim,\n",
    "    d_model=hidden_dim,\n",
    "    MHD_num_head=4,\n",
    "    d_ff=4 * hidden_dim,\n",
    "    drop=0.0,\n",
    ")\n",
    "\n",
    "multitask_ckpt = torch.load(\"./checkpoints/hm_multitask_concare_ep100_kf10_bs64_hid128_1_seed0.pth\", map_location=torch.device('cpu'))\n",
    "multitask_backbone = extract_backbone_param(multitask_ckpt)\n",
    "model.load_state_dict(multitask_backbone)\n",
    "out = model(patient, device)\n",
    "out = torch.squeeze(out)\n",
    "out = out.detach().numpy()"
   ]
  },
  {
   "cell_type": "code",
   "execution_count": null,
   "metadata": {},
   "outputs": [],
   "source": [
    "if approach == 'pca':\n",
    "    projected = PCA(2).fit_transform(out)\n",
    "else:\n",
    "    projected = TSNE(n_components=2, learning_rate='auto', init='random').fit_transform(out)\n",
    "\n",
    "concatenated = np.concatenate([projected, outcome_status], axis=1)\n",
    "df = pd.DataFrame(concatenated, columns = ['Component 1', 'Component 2', 'Outcome'])\n",
    "df = remove_outliers(df, ['Component 1', 'Component 2'], n_std)\n",
    "df['Outcome'].replace({1: 'Dead', 0: 'Alive'}, inplace=True)\n",
    "\n",
    "sns.scatterplot(data=df, x=\"Component 1\", y=\"Component 2\", hue=\"Outcome\", style=\"Outcome\", palette=[\"C2\", \"C3\"], alpha=0.5)\n",
    "plt.savefig(f'multitask_{approach}.pdf', dpi=500, format=\"pdf\", bbox_inches=\"tight\")"
   ]
  },
  {
   "cell_type": "markdown",
   "metadata": {},
   "source": [
    "### Outcome Prediction Model"
   ]
  },
  {
   "cell_type": "code",
   "execution_count": null,
   "metadata": {},
   "outputs": [],
   "source": [
    "hidden_dim=128\n",
    "model = models.ConCare(\n",
    "    lab_dim=97,\n",
    "    demo_dim=2,\n",
    "    hidden_dim=hidden_dim,\n",
    "    d_model=hidden_dim,\n",
    "    MHD_num_head=4,\n",
    "    d_ff=4 * hidden_dim,\n",
    "    drop=0.0,\n",
    ")\n",
    "\n",
    "outcome_ckpt = torch.load(\"./checkpoints/hm_outcome_concare_ep100_kf10_bs64_hid128_1_seed0.pth\", map_location=torch.device('cpu'))\n",
    "outcome_backbone = extract_backbone_param(outcome_ckpt)\n",
    "model.load_state_dict(outcome_backbone)\n",
    "out = model(patient, device)\n",
    "out = torch.squeeze(out)\n",
    "out = out.detach().numpy()"
   ]
  },
  {
   "cell_type": "code",
   "execution_count": null,
   "metadata": {},
   "outputs": [],
   "source": [
    "if approach == 'pca':\n",
    "    projected = PCA(2).fit_transform(out)\n",
    "else:\n",
    "    projected = TSNE(n_components=2, learning_rate='auto', init='random').fit_transform(out)\n",
    "\n",
    "concatenated = np.concatenate([projected, outcome_status], axis=1)\n",
    "df = pd.DataFrame(concatenated, columns = ['Component 1', 'Component 2', 'Outcome'])\n",
    "df = remove_outliers(df, ['Component 1', 'Component 2'], n_std)\n",
    "df['Outcome'].replace({1: 'Dead', 0: 'Alive'}, inplace=True)\n",
    "\n",
    "sns.scatterplot(data=df, x=\"Component 1\", y=\"Component 2\", hue=\"Outcome\", style=\"Outcome\", palette=[\"C2\", \"C3\"], alpha=0.5)\n",
    "plt.savefig(f'outcome_{approach}.pdf', dpi=500, format=\"pdf\", bbox_inches=\"tight\")"
   ]
  },
  {
   "cell_type": "markdown",
   "metadata": {},
   "source": [
    "### LOS Prediction model"
   ]
  },
  {
   "cell_type": "code",
   "execution_count": null,
   "metadata": {},
   "outputs": [],
   "source": [
    "hidden_dim=64\n",
    "model = models.ConCare(\n",
    "    lab_dim=97,\n",
    "    demo_dim=2,\n",
    "    hidden_dim=hidden_dim,\n",
    "    d_model=hidden_dim,\n",
    "    MHD_num_head=4,\n",
    "    d_ff=4 * hidden_dim,\n",
    "    drop=0.0,\n",
    ")\n",
    "\n",
    "los_ckpt = torch.load(\"./checkpoints/hm_los_concare_ep100_kf10_bs64_hid64_1_seed0.pth\", map_location=torch.device('cpu'))\n",
    "los_backbone = extract_backbone_param(los_ckpt)\n",
    "model.load_state_dict(los_backbone)\n",
    "out = model(patient, device)\n",
    "out = torch.squeeze(out)\n",
    "out = out.detach().numpy()"
   ]
  },
  {
   "cell_type": "code",
   "execution_count": null,
   "metadata": {},
   "outputs": [],
   "source": [
    "if approach == 'pca':\n",
    "    projected = PCA(2).fit_transform(out)\n",
    "else:\n",
    "    projected = TSNE(n_components=2, learning_rate='auto', init='random').fit_transform(out)\n",
    "\n",
    "concatenated = np.concatenate([projected, outcome_status], axis=1)\n",
    "df = pd.DataFrame(concatenated, columns = ['Component 1', 'Component 2', 'Outcome'])\n",
    "df = remove_outliers(df, ['Component 1', 'Component 2'], n_std)\n",
    "df['Outcome'].replace({1: 'Dead', 0: 'Alive'}, inplace=True)\n",
    "\n",
    "sns.scatterplot(data=df, x=\"Component 1\", y=\"Component 2\", hue=\"Outcome\", style=\"Outcome\", palette=[\"C2\", \"C3\"], alpha=0.5)\n",
    "plt.savefig(f'los_{approach}.pdf', dpi=500, format=\"pdf\", bbox_inches=\"tight\")"
   ]
  },
  {
   "cell_type": "markdown",
   "metadata": {},
   "source": [
    "## Case Study"
   ]
  },
  {
   "cell_type": "markdown",
   "metadata": {},
   "source": [
    "### ConCare LOS"
   ]
  },
  {
   "cell_type": "code",
   "execution_count": null,
   "metadata": {},
   "outputs": [],
   "source": [
    "x = pd.read_pickle(\"datasets/hm/processed_data/x.pkl\")\n",
    "y = pd.read_pickle(\"datasets/hm/processed_data/y.pkl\")\n",
    "visits_length = pd.read_pickle(\"datasets/hm/processed_data/visits_length.pkl\")\n",
    "x = x[val_idx]\n",
    "y = y[val_idx]\n",
    "visits_length = visits_length[val_idx]\n",
    "device = torch.device(\"cpu\")"
   ]
  },
  {
   "cell_type": "code",
   "execution_count": null,
   "metadata": {},
   "outputs": [],
   "source": [
    "\"\"\"7 9 20 24 34 40 43 45 55 66 78 96 104 114 126 142 151 153 158 165 169 183 192 197 198 220 228 229 231 240 249 251 253 264 273 277 282 289 294 299 315 325 328 331 333 344 350 357 371 383 384 388 398 405 406 410 413\"\"\""
   ]
  },
  {
   "cell_type": "code",
   "execution_count": null,
   "metadata": {},
   "outputs": [],
   "source": [
    "idx=412 # 4, 412 | 24, 114\n",
    "outcome_status=y[idx][0][0]\n",
    "los_status=y[idx][:visits_length[idx]][:,1]\n",
    "patient=x[idx][:visits_length[idx]]\n",
    "\n",
    "outcome_status = outcome_status.unsqueeze(-1)\n",
    "patient = patient.float()\n",
    "\n",
    "hidden_dim=64\n",
    "backbone = models.ConCare(\n",
    "    lab_dim=97,\n",
    "    demo_dim=2,\n",
    "    hidden_dim=hidden_dim,\n",
    "    d_model=hidden_dim,\n",
    "    MHD_num_head=4,\n",
    "    d_ff=4 * hidden_dim,\n",
    "    drop=0.0,\n",
    ")\n",
    "head = models.LosHead(\n",
    "    hidden_dim=hidden_dim,\n",
    "    output_dim=1,\n",
    ")\n",
    "model = models.Model(backbone, head)\n",
    "los_ckpt = torch.load(\"./checkpoints/hm_los_concare_ep100_kf10_bs64_hid64_1_seed0.pth\", map_location=torch.device('cpu'))\n",
    "model.load_state_dict(los_ckpt)\n",
    "\n",
    "# ConCare model does not accept single patient input, so we need to create a batch of size 2\n",
    "patient = torch.stack((patient, patient), dim=0)\n",
    "out = model(patient, device, None)\n",
    "out = out[0]\n",
    "\n",
    "los_statistics = {'los_mean': 6.1315513, 'los_std': 5.6816683}\n",
    "out = torch.squeeze(out)\n",
    "out = out * los_statistics['los_std'] + los_statistics['los_mean']\n",
    "los_status, out, outcome_status\n"
   ]
  },
  {
   "cell_type": "code",
   "execution_count": null,
   "metadata": {},
   "outputs": [],
   "source": [
    "for i in range(len(visits_length)):\n",
    "    if visits_length[i] > 20:\n",
    "        print(f\"[{i}: {y[i][0][0].item()}]\", end=\"    \")"
   ]
  },
  {
   "cell_type": "markdown",
   "metadata": {},
   "source": [
    "### ConCare Multitask"
   ]
  },
  {
   "cell_type": "code",
   "execution_count": null,
   "metadata": {},
   "outputs": [],
   "source": [
    "idx=20 # 60, 243 | 24, 114   129 20\n",
    "outcome_status=y[idx][0][0]\n",
    "los_status=y[idx][:visits_length[idx]][:,1]\n",
    "patient=x[idx][:visits_length[idx]]\n",
    "\n",
    "outcome_status = outcome_status.unsqueeze(-1)\n",
    "patient = patient.float()\n",
    "\n",
    "hidden_dim=128\n",
    "backbone = models.ConCare(\n",
    "    lab_dim=97,\n",
    "    demo_dim=2,\n",
    "    hidden_dim=hidden_dim,\n",
    "    d_model=hidden_dim,\n",
    "    MHD_num_head=4,\n",
    "    d_ff=4 * hidden_dim,\n",
    "    drop=0.0,\n",
    ")\n",
    "head = models.MultitaskHead(\n",
    "    hidden_dim=hidden_dim,\n",
    "    output_dim=1,\n",
    ")\n",
    "model = models.Model(backbone, head)\n",
    "los_ckpt = torch.load(\"./checkpoints/hm_multitask_concare_ep100_kf10_bs64_hid128_1_seed0.pth\", map_location=torch.device('cpu'))\n",
    "model.load_state_dict(los_ckpt)\n",
    "\n",
    "# ConCare model does not accept single patient input, so we need to create a batch of size 2\n",
    "patient = torch.stack((patient, patient), dim=0)\n",
    "risk, out = model(patient, device, None)\n",
    "out = out[0]\n",
    "risk = risk[0]\n",
    "los_statistics = {'los_mean': 6.1315513, 'los_std': 5.6816683}\n",
    "out = torch.squeeze(out)\n",
    "risk = torch.squeeze(risk)\n",
    "out = out * los_statistics['los_std'] + los_statistics['los_mean']\n",
    "\n",
    "los_status, out, outcome_status, risk"
   ]
  },
  {
   "cell_type": "code",
   "execution_count": null,
   "metadata": {},
   "outputs": [],
   "source": [
    "case_114_gt=[22., 21., 20., 19., 18., 17., 16., 15., 14., 13., 12., 11., 10.,  9.,\n",
    "          8.,  7.,  6.,  5.,  4.,  3.,  2.,  1.]\n",
    "case_114_pred=[10.1101,  8.9618,  9.4032,  9.4625,  9.5044,  9.3194,  8.7520,  8.1192,\n",
    "          8.2533,  8.2546,  7.8235,  4.3070,  3.9903,  3.8888,  3.5136,  3.3580,\n",
    "          3.0729,  2.8846,  2.6511,  2.4625,  2.4125,  2.3230]\n",
    "case_24_gt=[23., 22., 21., 20., 19., 18., 17., 16., 15., 14., 13., 12., 11., 10.,\n",
    "          9.,  8.,  7.,  6.,  5.,  4.,  3.,  2.,  1.,  0.]\n",
    "case_24_pred=[ 6.0854,  9.0597,  8.2973, 10.6397,  6.6113,  6.8131,  7.6291, 10.0001,\n",
    "         10.3679, 10.5334,  9.6623, 11.2652, 10.4997,  8.6772,  7.1782,  5.6204,\n",
    "          5.0683,  4.4755,  4.0256,  3.4587,  3.0872,  2.7316,  2.5049,  2.3096]\n",
    "case_60_gt=[23., 22., 21., 20., 19., 18., 17., 16., 15., 14., 13., 12., 11., 10.,\n",
    "          9.,  8.,  7.,  6.,  5.,  4.,  3.,  2.,  1.,  0.]\n",
    "case_60_pred=[17.8147, 12.8202, 14.5723, 15.8245, 18.0780, 19.6976, 17.0879, 14.1300,\n",
    "         13.0183, 11.3014, 11.4915, 11.0472, 10.0338,  9.5393,  8.5974,  7.5074,\n",
    "          6.4306,  4.9658,  4.1049,  3.5831,  3.0997,  2.6312,  2.2952,  2.1399]\n",
    "case_243_gt=[23., 22., 21., 20., 19., 18., 17., 16., 15., 14., 13., 12., 11., 10.,\n",
    "          9.,  8.,  7.,  6.,  5.,  4.,  3.,  2.,  1.,  0.]\n",
    "case_243_pred=[ 7.0322,  7.8864,  6.6896,  5.4680,  7.5832,  8.3400,  9.0999, 10.7515,\n",
    "         11.4039, 10.8677,  9.2222,  7.5253,  4.6677,  4.4327,  4.1853,  3.8500,\n",
    "          3.7532,  3.4232,  3.4095,  3.2011,  3.2800,  3.2329,  2.9736,  2.8996]"
   ]
  },
  {
   "cell_type": "code",
   "execution_count": null,
   "metadata": {},
   "outputs": [],
   "source": [
    "fig, ax = plt.subplots()\n",
    "\n",
    "plt.plot(case_60_gt, case_60_pred, marker='s', linewidth=1, label='Alive case #1', color='green')\n",
    "plt.plot(case_243_gt, case_243_pred, marker='s', linewidth=1, label='Alive case #2', color='limegreen')\n",
    "\n",
    "# reference line, legends, and axis labels\n",
    "line = mlines.Line2D([0, 1], [0, 1], linestyle='-.', color='grey')\n",
    "transform = ax.transAxes\n",
    "line.set_transform(transform)\n",
    "ax.add_line(line)\n",
    "ax.set_xlabel('True Length of Stay (days)')\n",
    "ax.set_ylabel('Predicted Length of Stay (days)')\n",
    "plt.legend(loc='upper left')\n",
    "plt.savefig('case_study_los_alive.pdf', dpi=500, format=\"pdf\", bbox_inches=\"tight\")\n",
    "plt.show()"
   ]
  },
  {
   "cell_type": "code",
   "execution_count": null,
   "metadata": {},
   "outputs": [],
   "source": [
    "fig, ax = plt.subplots()\n",
    "# only these two lines are calibration curves\n",
    "plt.plot(case_114_gt, case_114_pred, marker='o', linewidth=1, label='Dead case #1', color='red')\n",
    "plt.plot(case_24_gt, case_24_pred, marker='o', linewidth=1, label='Dead case #2', color='salmon')\n",
    "\n",
    "# reference line, legends, and axis labels\n",
    "line = mlines.Line2D([0, 1], [0, 1], linestyle='-.', color='grey')\n",
    "transform = ax.transAxes\n",
    "line.set_transform(transform)\n",
    "ax.add_line(line)\n",
    "ax.set_xlabel('True Length of Stay (days)')\n",
    "ax.set_ylabel('Predicted Length of Stay (days)')\n",
    "plt.legend(loc='upper left')\n",
    "plt.savefig('case_study_los_dead.pdf', dpi=500, format=\"pdf\", bbox_inches=\"tight\")\n",
    "plt.show()"
   ]
  }
 ],
 "metadata": {
  "kernelspec": {
   "display_name": "Python 3.9.5 ('pytorch')",
   "language": "python",
   "name": "python3"
  },
  "language_info": {
   "codemirror_mode": {
    "name": "ipython",
    "version": 3
   },
   "file_extension": ".py",
   "mimetype": "text/x-python",
   "name": "python",
   "nbconvert_exporter": "python",
   "pygments_lexer": "ipython3",
   "version": "3.9.5"
  },
  "orig_nbformat": 4,
  "vscode": {
   "interpreter": {
    "hash": "e382889b16d65b8f9d2caeea05d88db6d501b8794eac9af8ee0956d5affe33e5"
   }
  }
 },
 "nbformat": 4,
 "nbformat_minor": 2
}
