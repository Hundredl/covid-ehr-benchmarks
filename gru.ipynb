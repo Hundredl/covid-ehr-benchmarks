{
 "cells": [
  {
   "cell_type": "code",
   "execution_count": null,
   "metadata": {
    "ExecuteTime": {
     "end_time": "2021-11-02T02:11:20.230506Z",
     "start_time": "2021-11-02T02:11:17.941835Z"
    }
   },
   "outputs": [],
   "source": [
    "import numpy as np\n",
    "import argparse\n",
    "import os\n",
    "import imp\n",
    "import re\n",
    "import pickle\n",
    "import datetime\n",
    "import random\n",
    "import math\n",
    "import copy\n",
    "\n",
    "from sklearn.model_selection import KFold, StratifiedKFold\n",
    "import torch\n",
    "from torch import nn\n",
    "import torch.nn.utils.rnn as rnn_utils\n",
    "from torch.utils import data\n",
    "from torch.autograd import Variable\n",
    "import torch.nn.functional as F\n",
    "from torch.utils.data import Dataset, DataLoader,TensorDataset,random_split,SubsetRandomSampler, ConcatDataset, Subset\n",
    "\n",
    "\n",
    "from utils import utils\n",
    "from utils.readers import InHospitalMortalityReader\n",
    "from utils.preprocessing import Discretizer, Normalizer\n",
    "from utils import metrics\n",
    "from utils import common_utils"
   ]
  },
  {
   "cell_type": "markdown",
   "metadata": {},
   "source": [
    "### Base GRU model"
   ]
  },
  {
   "cell_type": "code",
   "execution_count": null,
   "metadata": {},
   "outputs": [],
   "source": [
    "input_dim = 25\n",
    "pad_token = np.zeros(input_dim)\n",
    "def pad_sents(sents, pad_token):\n",
    "\n",
    "    sents_padded = []\n",
    "\n",
    "    max_length = max([len(_) for _ in sents])\n",
    "    for i in sents:\n",
    "        padded = list(i) + [pad_token]*(max_length-len(i))\n",
    "        sents_padded.append(np.array(padded))\n",
    "\n",
    "    return np.array(sents_padded)"
   ]
  },
  {
   "cell_type": "code",
   "execution_count": null,
   "metadata": {
    "ExecuteTime": {
     "end_time": "2021-11-02T02:12:48.282265Z",
     "start_time": "2021-11-02T02:12:48.191901Z"
    }
   },
   "outputs": [],
   "source": [
    "def get_bce_loss(y_pred, y_true):\n",
    "    loss = torch.nn.BCELoss()\n",
    "    return loss(y_pred, y_true)"
   ]
  },
  {
   "cell_type": "code",
   "execution_count": null,
   "metadata": {
    "ExecuteTime": {
     "end_time": "2021-11-02T02:12:48.355893Z",
     "start_time": "2021-11-02T02:12:48.284802Z"
    }
   },
   "outputs": [],
   "source": [
    "class Dataset(data.Dataset):\n",
    "    def __init__(self, x_lab, x_demo, y):\n",
    "        self.x_lab = x_lab\n",
    "        self.x_demo = x_demo\n",
    "        self.y = y\n",
    "\n",
    "    def __getitem__(self, index): # 返回的是tensor\n",
    "        return self.x_lab[index], self.x_demo[index], self.y[index]\n",
    "\n",
    "    def __len__(self):\n",
    "        return len(self.x_lab)"
   ]
  },
  {
   "cell_type": "code",
   "execution_count": null,
   "metadata": {},
   "outputs": [],
   "source": [
    "data_path = './dataset/tongji/processed_data/'\n",
    "file_name = './ckpt/gru.pth'\n",
    "\n",
    "batch_size = 32\n",
    "num_epochs = 3\n",
    "device = torch.device(\"cuda:0\" if torch.cuda.is_available() == True else 'cpu')\n",
    "#device = torch.device('cpu')\n",
    "print(\"available device: {}\".format(device))\n",
    "\n",
    "\n",
    "x_lab = pickle.load(open('./dataset/tongji/processed_data/train_x_labtest_outcome.pkl', 'rb'))\n",
    "x_lab = np.array(x_lab, dtype=object)\n",
    "\n",
    "x_demo = pickle.load(open('./dataset/tongji/processed_data/train_x_demographic_outcome.pkl', 'rb'))\n",
    "x_demo = np.array(x_demo)\n",
    "\n",
    "y = pickle.load(open('./dataset/tongji/processed_data/train_y_outcome.pkl', 'rb'))\n",
    "y = np.array(y)\n",
    "\n",
    "# print(len(x_lab[0][0]))\n",
    "x_lab = pad_sents(x_lab, pad_token)\n",
    "# len(x_lab[7])"
   ]
  },
  {
   "cell_type": "code",
   "execution_count": null,
   "metadata": {
    "ExecuteTime": {
     "end_time": "2021-11-02T02:12:48.442051Z",
     "start_time": "2021-11-02T02:12:48.358759Z"
    }
   },
   "outputs": [],
   "source": [
    "train_dataset = Dataset(x_lab, x_demo, y)\n",
    "# train_loader = torch.utils.data.DataLoader(train_dataset, batch_size=batch_size, shuffle=True)\n",
    "\n",
    "print(x_lab.shape)\n",
    "print(x_demo.shape)\n",
    "print(y.shape)\n",
    "# print(y)\n"
   ]
  },
  {
   "cell_type": "code",
   "execution_count": null,
   "metadata": {
    "ExecuteTime": {
     "end_time": "2021-11-02T02:12:48.189439Z",
     "start_time": "2021-11-02T02:12:48.082871Z"
    }
   },
   "outputs": [],
   "source": [
    "class GRU(nn.Module):\n",
    "    def __init__(self, input_lab_dim, input_demo_dim, hidden_dim, output_dim, act_layer=nn.GELU, drop=0.):\n",
    "        super(GRU, self).__init__()\n",
    "\n",
    "        # hyperparameters\n",
    "        self.input_lab_dim = input_lab_dim\n",
    "        self.input_demo_dim = input_demo_dim\n",
    "        self.hidden_dim = hidden_dim\n",
    "        self.output_dim = output_dim\n",
    "        \n",
    "        self.demo_proj = nn.Linear(input_demo_dim, hidden_dim)\n",
    "        self.lab_proj = nn.Linear(input_lab_dim, hidden_dim)\n",
    "\n",
    "        self.gru = nn.GRU(input_size = hidden_dim, hidden_size = hidden_dim, num_layers = 1, batch_first = True)\n",
    "        \n",
    "        self.act = act_layer()\n",
    "        self.fc = nn.Linear(2*hidden_dim, output_dim)\n",
    "        self.drop = nn.Dropout(drop)\n",
    "\n",
    "        self.sigmoid = nn.Sigmoid()\n",
    "\n",
    "    def forward(self, x_lab, x_demo):\n",
    "\n",
    "        x_lab = self.lab_proj(x_lab)\n",
    "        x_lab = self.act(x_lab) \n",
    "\n",
    "        _, x_lab = self.gru(x_lab) # (1, batch_size, hidden_dim)\n",
    "        x_lab = x_lab[0] # (batch_size, hidden_dim)\n",
    "\n",
    "        x_demo = self.demo_proj(x_demo)\n",
    "        x_demo = self.act(x_demo) # (batch_size, hidden_dim)\n",
    "\n",
    "        x = torch.cat((x_lab, x_demo), 1) # (batch_size, 2*hidden_dim)\n",
    "\n",
    "        x = self.drop(x)\n",
    "        x = self.fc(x)\n",
    "        x = self.drop(x)\n",
    "        \n",
    "        x = self.sigmoid(x)\n",
    "        return x\n"
   ]
  },
  {
   "cell_type": "code",
   "execution_count": null,
   "metadata": {
    "ExecuteTime": {
     "end_time": "2021-11-02T03:27:01.575443Z",
     "start_time": "2021-11-02T02:12:48.445259Z"
    },
    "scrolled": true
   },
   "outputs": [],
   "source": [
    "RANDOM_SEED = 42\n",
    "np.random.seed(RANDOM_SEED) # numpy\n",
    "random.seed(RANDOM_SEED)\n",
    "torch.manual_seed(RANDOM_SEED) # cpu\n",
    "torch.cuda.manual_seed(RANDOM_SEED) # gpu\n",
    "torch.backends.cudnn.deterministic=True # cudnn\n",
    "np.set_printoptions(threshold=np.inf, precision=2, suppress=True)\n",
    "\n",
    "\n",
    "def train_epoch(model, device, dataloader, loss_fn, optimizer):\n",
    "    train_loss = []\n",
    "    model.train()\n",
    "    for step, data in enumerate(dataloader):   \n",
    "        batch_x_lab, batch_x_demo, batch_y = data\n",
    "        batch_x_lab, batch_x_demo, batch_y = batch_x_lab.float().to(device), batch_x_demo.float().to(device), batch_y.float()\n",
    "        batch_y = batch_y.unsqueeze(-1)\n",
    "        optimizer.zero_grad()\n",
    "        output = model(batch_x_lab, batch_x_demo)\n",
    "        loss = loss_fn(output, batch_y)\n",
    "        train_loss.append(loss.item())\n",
    "        loss.backward()\n",
    "        optimizer.step()\n",
    "    return np.array(train_loss).mean()\n",
    "\n",
    "def val_epoch(model, device, dataloader, loss_fn):\n",
    "    val_loss = []\n",
    "    y_pred = []\n",
    "    y_true = []\n",
    "    evaluation_scores = {}\n",
    "    model.eval()\n",
    "    with torch.no_grad():\n",
    "        for step, data in enumerate(dataloader):   \n",
    "            batch_x_lab, batch_x_demo, batch_y = data\n",
    "            batch_x_lab, batch_x_demo, batch_y = batch_x_lab.float().to(device), batch_x_demo.float().to(device), batch_y.float()\n",
    "            batch_y = batch_y.unsqueeze(-1)\n",
    "            output = model(batch_x_lab, batch_x_demo)\n",
    "            loss = loss_fn(output, batch_y)\n",
    "            val_loss.append(loss.item())\n",
    "\n",
    "            y_pred += list(output.cpu().numpy().flatten())\n",
    "            y_true += list(batch_y.cpu().numpy().flatten())\n",
    "    y_pred = np.array(y_pred)\n",
    "    y_pred = np.stack([1 - y_pred, y_pred], axis=1)\n",
    "    evaluation_scores = metrics.print_metrics_binary(y_true, y_pred)\n",
    "    return np.array(val_loss).mean(), evaluation_scores\n",
    "\n",
    "def test_epoch(model, device, dataloader, loss_fn):\n",
    "    test_loss = []\n",
    "    y_pred = []\n",
    "    y_true = []\n",
    "    evaluation_scores = {}\n",
    "    model.eval()\n",
    "    with torch.no_grad():\n",
    "        for step, data in enumerate(dataloader):   \n",
    "            batch_x_lab, batch_x_demo, batch_y = data\n",
    "            batch_x_lab, batch_x_demo, batch_y = batch_x_lab.float().to(device), batch_x_demo.float().to(device), batch_y.float()\n",
    "            batch_y = batch_y.unsqueeze(-1)\n",
    "            output = model(batch_x_lab, batch_x_demo)\n",
    "            loss = loss_fn(output, batch_y)\n",
    "            test_loss.append(loss.item())\n",
    "\n",
    "            y_pred += list(output.cpu().numpy().flatten())\n",
    "            y_true += list(batch_y.cpu().numpy().flatten())\n",
    "    y_pred = np.array(y_pred)\n",
    "    y_pred = np.stack([1 - y_pred, y_pred], axis=1)\n",
    "    evaluation_scores = metrics.print_metrics_binary(y_true, y_pred)\n",
    "    return np.array(test_loss).mean(), evaluation_scores\n",
    "\n",
    "# train_epoch(model, device, train_loader, get_bce_loss, optimizer)"
   ]
  },
  {
   "cell_type": "markdown",
   "metadata": {},
   "source": [
    "### 选超参"
   ]
  },
  {
   "cell_type": "code",
   "execution_count": null,
   "metadata": {},
   "outputs": [],
   "source": [
    "num_folds = 10\n",
    "kfold = StratifiedKFold(n_splits=num_folds, shuffle=True, random_state=RANDOM_SEED)\n",
    "dataset = train_dataset\n",
    "# print(dataset.y)\n",
    "train_and_val_idx, test_idx = next(kfold.split(np.arange(len(train_dataset)), train_dataset.y))\n",
    "# print(len(train_and_val_idx), len(test_idx))\n",
    "\n",
    "kfold = StratifiedKFold(n_splits=num_folds-1, shuffle=True, random_state=RANDOM_SEED)\n",
    "sub_dataset = Dataset(dataset.x_lab[train_and_val_idx], dataset.x_demo[train_and_val_idx], dataset.y[train_and_val_idx])\n"
   ]
  },
  {
   "cell_type": "code",
   "execution_count": null,
   "metadata": {},
   "outputs": [],
   "source": [
    "fold_performance={}\n",
    "dataset = sub_dataset\n",
    "\n",
    "for fold, (train_idx, val_idx) in enumerate(kfold.split(np.arange(len(dataset)), dataset.y)):\n",
    "\n",
    "    print('Fold {}'.format(fold + 1))\n",
    "\n",
    "    print(type(val_idx))\n",
    "    train_sampler = SubsetRandomSampler(train_idx)\n",
    "    val_sampler = SubsetRandomSampler(val_idx)\n",
    "    train_loader = DataLoader(dataset, batch_size=batch_size, sampler=train_sampler)\n",
    "    val_loader = DataLoader(dataset, batch_size=batch_size, sampler=val_sampler)\n",
    "    \n",
    "    # 模型的超参数可在此处修改和调整\n",
    "    model = GRU(input_lab_dim=25, input_demo_dim=2, hidden_dim=32, output_dim=1, act_layer=nn.GELU, drop=0.).to(device)\n",
    "    optimizer = torch.optim.Adam(model.parameters(), lr=1e-3)\n",
    "    criterion = get_bce_loss\n",
    "\n",
    "    history = {'train_loss': [], 'val_loss': [],'val_accuracy':[], 'val_auroc':[], 'val_auprc':[]}\n",
    "\n",
    "    for epoch in range(num_epochs):\n",
    "        train_loss=train_epoch(model, device, train_loader, criterion, optimizer)\n",
    "        val_loss, val_evaluation_scores=val_epoch(model, device, val_loader, criterion)\n",
    "        # print('len:', len(train_loader.sampler), len(test_loader.sampler))\n",
    "\n",
    "        print(\"Epoch:{}/{} AVG Training Loss:{:.3f} AVG Val Loss:{:.3f}\".format(epoch + 1, num_epochs, train_loss, val_loss))\n",
    "        history['train_loss'].append(train_loss)\n",
    "        history['val_loss'].append(val_loss)\n",
    "        history['val_accuracy'].append(val_evaluation_scores['acc'])\n",
    "        history['val_auroc'].append(val_evaluation_scores['auroc'])\n",
    "        history['val_auprc'].append(val_evaluation_scores['auprc'])\n",
    "    fold_performance['fold{}'.format(fold+1)] = history  \n",
    "\n",
    "# torch.save(model,'gru.pth')"
   ]
  },
  {
   "cell_type": "code",
   "execution_count": null,
   "metadata": {},
   "outputs": [],
   "source": [
    "# print(fold_performance['fold7']['val_auroc'])\n",
    "\n",
    "# at the same epoch, calculate average auroc of each fold, set the best one as the best model\n",
    "best_epoch = 0\n",
    "best_performance = 0.0\n",
    "for step in range(num_epochs):\n",
    "    auroc_list = []\n",
    "    for fold in range(num_folds-1):\n",
    "        auroc_list.append(fold_performance['fold{}'.format(fold+1)]['val_auroc'][step])\n",
    "    performance = np.array(auroc_list).mean()\n",
    "    if performance > best_performance:\n",
    "        best_performance = performance\n",
    "        best_epoch = step + 1\n",
    "    print('Epoch:{}/{} AVG AUROC:{:.3f}'.format(step+1, num_epochs, performance))\n",
    "print(f\"Best epoch:{best_epoch} Best performance:{best_performance}\")\n"
   ]
  },
  {
   "cell_type": "markdown",
   "metadata": {},
   "source": [
    "### 已确定超参，评估模型性能"
   ]
  },
  {
   "cell_type": "code",
   "execution_count": null,
   "metadata": {},
   "outputs": [],
   "source": [
    "# kfold=KFold(n_splits=10, shuffle=True, random_state=RANDOM_SEED)\n",
    "num_folds = 10\n",
    "kfold = StratifiedKFold(n_splits=num_folds, shuffle=True, random_state=RANDOM_SEED)\n",
    "\n",
    "fold_performance={}\n",
    "dataset = train_dataset\n",
    "\n",
    "for fold, (train_idx, test_idx) in enumerate(kfold.split(np.arange(len(dataset)), dataset.y)):\n",
    "\n",
    "    print('Fold {}'.format(fold + 1))\n",
    "\n",
    "    print(type(val_idx))\n",
    "    train_sampler = SubsetRandomSampler(train_idx)\n",
    "    test_sampler = SubsetRandomSampler(test_idx)\n",
    "    train_loader = DataLoader(dataset, batch_size=batch_size, sampler=train_sampler)\n",
    "    test_loader = DataLoader(dataset, batch_size=batch_size, sampler=test_sampler)\n",
    "    \n",
    "    model = GRU(input_lab_dim=25, input_demo_dim=2, hidden_dim=32, output_dim=1, act_layer=nn.GELU, drop=0.).to(device)\n",
    "    optimizer = torch.optim.Adam(model.parameters(), lr=1e-3)\n",
    "    criterion = get_bce_loss\n",
    "\n",
    "    history = {'train_loss': [], 'test_loss': [],'test_accuracy':[], 'test_auroc':[], 'test_auprc':[]}\n",
    "\n",
    "    for epoch in range(num_epochs):\n",
    "        train_loss=train_epoch(model, device, train_loader, criterion, optimizer)\n",
    "        test_loss, test_evaluation_scores=test_epoch(model, device, test_loader, criterion)\n",
    "        # print('len:', len(train_loader.sampler), len(test_loader.sampler))\n",
    "\n",
    "        print(\"Epoch:{}/{} AVG Training Loss:{:.3f} AVG Test Loss:{:.3f}\".format(epoch + 1, num_epochs, train_loss, test_loss))\n",
    "        history['train_loss'].append(train_loss)\n",
    "        history['test_loss'].append(test_loss)\n",
    "        history['test_accuracy'].append(test_evaluation_scores['acc'])\n",
    "        history['test_auroc'].append(test_evaluation_scores['auroc'])\n",
    "        history['test_auprc'].append(test_evaluation_scores['auprc'])\n",
    "    fold_performance['fold{}'.format(fold+1)] = history  \n",
    "\n",
    "# torch.save(model,'gru.pth')"
   ]
  },
  {
   "cell_type": "code",
   "execution_count": null,
   "metadata": {},
   "outputs": [],
   "source": [
    "# at the same epoch, calculate average auroc of each fold, set the best one as the best model\n",
    "best_epoch = 0\n",
    "best_performance = 0.0\n",
    "for step in range(num_epochs):\n",
    "    auroc_list = []\n",
    "    for fold in range(num_folds):\n",
    "        auroc_list.append(fold_performance['fold{}'.format(fold+1)]['test_auroc'][step])\n",
    "    performance = np.array(auroc_list).mean()\n",
    "    if performance > best_performance:\n",
    "        best_performance = performance\n",
    "        best_epoch = step + 1\n",
    "    print('Epoch:{}/{} AVG AUROC:{:.3f}'.format(step+1, num_epochs, performance))\n",
    "print(f\"Best epoch:{best_epoch} Best performance:{best_performance}\")\n"
   ]
  }
 ],
 "metadata": {
  "interpreter": {
   "hash": "7dcfc096ef13b95f30f09234d13c16e463dbf760c5a41a06cf3b4dd8ab5dccc1"
  },
  "kernelspec": {
   "display_name": "Python (base1)",
   "language": "python",
   "name": "python3"
  },
  "language_info": {
   "codemirror_mode": {
    "name": "ipython",
    "version": 3
   },
   "file_extension": ".py",
   "mimetype": "text/x-python",
   "name": "python",
   "nbconvert_exporter": "python",
   "pygments_lexer": "ipython3",
   "version": "3.9.5"
  },
  "toc": {
   "base_numbering": 1,
   "nav_menu": {},
   "number_sections": true,
   "sideBar": true,
   "skip_h1_title": false,
   "title_cell": "Table of Contents",
   "title_sidebar": "Contents",
   "toc_cell": false,
   "toc_position": {},
   "toc_section_display": true,
   "toc_window_display": false
  }
 },
 "nbformat": 4,
 "nbformat_minor": 2
}
