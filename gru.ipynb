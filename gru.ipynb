{
 "cells": [
  {
   "cell_type": "code",
   "execution_count": null,
   "metadata": {
    "ExecuteTime": {
     "end_time": "2021-11-02T02:11:20.230506Z",
     "start_time": "2021-11-02T02:11:17.941835Z"
    }
   },
   "outputs": [],
   "source": [
    "import numpy as np\n",
    "import argparse\n",
    "import os\n",
    "import imp\n",
    "import re\n",
    "import pickle\n",
    "import datetime\n",
    "import random\n",
    "import math\n",
    "import copy\n",
    "\n",
    "\n",
    "import torch\n",
    "from torch import nn\n",
    "import torch.nn.utils.rnn as rnn_utils\n",
    "from torch.utils import data\n",
    "from torch.autograd import Variable\n",
    "import torch.nn.functional as F\n",
    "\n",
    "\n",
    "from utils import utils\n",
    "from utils.readers import InHospitalMortalityReader\n",
    "from utils.preprocessing import Discretizer, Normalizer\n",
    "from utils import metrics\n",
    "from utils import common_utils"
   ]
  },
  {
   "cell_type": "markdown",
   "metadata": {},
   "source": [
    "### Base GRU model"
   ]
  },
  {
   "cell_type": "code",
   "execution_count": null,
   "metadata": {},
   "outputs": [],
   "source": [
    "input_dim = 25\n",
    "pad_token = np.zeros(input_dim)\n",
    "def pad_sents(sents, pad_token):\n",
    "\n",
    "    sents_padded = []\n",
    "\n",
    "    max_length = max([len(_) for _ in sents])\n",
    "    for i in sents:\n",
    "        padded = list(i) + [pad_token]*(max_length-len(i))\n",
    "        sents_padded.append(np.array(padded))\n",
    "\n",
    "    return np.array(sents_padded)"
   ]
  },
  {
   "cell_type": "code",
   "execution_count": null,
   "metadata": {
    "ExecuteTime": {
     "end_time": "2021-11-02T02:12:48.282265Z",
     "start_time": "2021-11-02T02:12:48.191901Z"
    }
   },
   "outputs": [],
   "source": [
    "def get_loss(y_pred, y_true):\n",
    "    loss = torch.nn.BCELoss()\n",
    "    return loss(y_pred, y_true)"
   ]
  },
  {
   "cell_type": "code",
   "execution_count": null,
   "metadata": {
    "ExecuteTime": {
     "end_time": "2021-11-02T02:12:48.355893Z",
     "start_time": "2021-11-02T02:12:48.284802Z"
    }
   },
   "outputs": [],
   "source": [
    "class Dataset(data.Dataset):\n",
    "    def __init__(self, x_lab, x_demo, y):\n",
    "        self.x_lab = x_lab\n",
    "        self.x_demo = x_demo\n",
    "        self.y = y\n",
    "\n",
    "    def __getitem__(self, index): # 返回的是tensor\n",
    "        return self.x_lab[index], self.x_demo[index], self.y[index]\n",
    "\n",
    "    def __len__(self):\n",
    "        return len(self.x_lab)"
   ]
  },
  {
   "cell_type": "code",
   "execution_count": null,
   "metadata": {},
   "outputs": [],
   "source": [
    "data_path = './dataset/tongji/processed_data/'\n",
    "file_name = './ckpt/gru.pth'\n",
    "small_part = False\n",
    "arg_timestep = 1.0\n",
    "batch_size = 16\n",
    "epochs = 100\n",
    "device = torch.device(\"cuda:0\" if torch.cuda.is_available() == True else 'cpu')\n",
    "#device = torch.device('cpu')\n",
    "print(\"available device: {}\".format(device))\n",
    "\n",
    "\n",
    "x_lab = pickle.load(open('./dataset/tongji/processed_data/train_x_labtest_outcome.pkl', 'rb'))\n",
    "x_lab = np.array(x_lab, dtype=object)\n",
    "\n",
    "x_demo = pickle.load(open('./dataset/tongji/processed_data/train_x_demographic_outcome.pkl', 'rb'))\n",
    "x_demo = np.array(x_demo)\n",
    "\n",
    "y = pickle.load(open('./dataset/tongji/processed_data/train_y_outcome.pkl', 'rb'))\n",
    "y = np.array(y)\n",
    "\n",
    "# print(len(x_lab[0][0]))\n",
    "x_lab = pad_sents(x_lab, pad_token)\n",
    "# len(x_lab[7])"
   ]
  },
  {
   "cell_type": "code",
   "execution_count": null,
   "metadata": {
    "ExecuteTime": {
     "end_time": "2021-11-02T02:12:48.442051Z",
     "start_time": "2021-11-02T02:12:48.358759Z"
    }
   },
   "outputs": [],
   "source": [
    "train_dataset = Dataset(x_lab, x_demo, y)\n",
    "train_loader = torch.utils.data.DataLoader(train_dataset, batch_size=batch_size, shuffle=True)\n",
    "\n",
    "print(x_lab.shape)\n",
    "print(x_demo.shape)\n",
    "print(y.shape)\n",
    "# print(y)\n"
   ]
  },
  {
   "cell_type": "code",
   "execution_count": null,
   "metadata": {
    "ExecuteTime": {
     "end_time": "2021-11-02T02:12:48.189439Z",
     "start_time": "2021-11-02T02:12:48.082871Z"
    }
   },
   "outputs": [],
   "source": [
    "class GRU(nn.Module):\n",
    "    def __init__(self, input_lab_dim, input_demo_dim, hidden_dim, output_dim, act_layer=nn.GELU, drop=0.):\n",
    "        super(GRU, self).__init__()\n",
    "\n",
    "        # hyperparameters\n",
    "        self.input_lab_dim = input_lab_dim\n",
    "        self.input_demo_dim = input_demo_dim\n",
    "        self.hidden_dim = hidden_dim\n",
    "        self.output_dim = output_dim\n",
    "        \n",
    "        self.demo_proj = nn.Linear(input_demo_dim, hidden_dim)\n",
    "        self.lab_proj = nn.Linear(input_lab_dim, hidden_dim)\n",
    "\n",
    "        self.gru = nn.GRU(input_size = hidden_dim, hidden_size = hidden_dim, num_layers = 1, batch_first = True)\n",
    "        \n",
    "        self.act = act_layer()\n",
    "        self.fc = nn.Linear(2*hidden_dim, output_dim)\n",
    "        self.drop = nn.Dropout(drop)\n",
    "\n",
    "        self.sigmoid = nn.Sigmoid()\n",
    "\n",
    "    def forward(self, x_lab, x_demo):\n",
    "\n",
    "        x_lab = self.lab_proj(x_lab)\n",
    "        x_lab = self.act(x_lab) \n",
    "\n",
    "        _, x_lab = self.gru(x_lab) # (1, batch_size, hidden_dim)\n",
    "        x_lab = x_lab[0] # (batch_size, hidden_dim)\n",
    "\n",
    "        x_demo = self.demo_proj(x_demo)\n",
    "        x_demo = self.act(x_demo) # (batch_size, hidden_dim)\n",
    "\n",
    "        x = torch.cat((x_lab, x_demo), 1) # (batch_size, 2*hidden_dim)\n",
    "\n",
    "        x = self.drop(x)\n",
    "        x = self.fc(x)\n",
    "        x = self.drop(x)\n",
    "        \n",
    "        x = self.sigmoid(x)\n",
    "        return x\n"
   ]
  },
  {
   "cell_type": "code",
   "execution_count": null,
   "metadata": {
    "ExecuteTime": {
     "end_time": "2021-11-02T03:27:01.575443Z",
     "start_time": "2021-11-02T02:12:48.445259Z"
    },
    "scrolled": true
   },
   "outputs": [],
   "source": [
    "RANDOM_SEED = 42\n",
    "np.random.seed(RANDOM_SEED) # numpy\n",
    "random.seed(RANDOM_SEED)\n",
    "torch.manual_seed(RANDOM_SEED) # cpu\n",
    "torch.cuda.manual_seed(RANDOM_SEED) # gpu\n",
    "torch.backends.cudnn.deterministic=True # cudnn\n",
    "np.set_printoptions(threshold=np.inf, precision=2, suppress=True)\n",
    "\n",
    "\n",
    "model = GRU(input_lab_dim=25, input_demo_dim=2, hidden_dim=32, output_dim=1, act_layer=nn.GELU, drop=0.5).to(device)\n",
    "optimizer = torch.optim.Adam(model.parameters(), lr=1e-3)\n",
    "\n",
    "for each_epoch in range(epochs):\n",
    "    batch_loss = []\n",
    "    model.train()\n",
    "    for step, data in enumerate(train_loader):   \n",
    "        batch_x_lab, batch_x_demo, batch_y = data\n",
    "        batch_x_lab, batch_x_demo, batch_y = batch_x_lab.float(), batch_x_demo.float(), batch_y.float()\n",
    "        batch_y = batch_y.unsqueeze(-1)\n",
    "\n",
    "        optimizer.zero_grad()\n",
    "        output = model(batch_x_lab, batch_x_demo)\n",
    "        # print(output)\n",
    "        loss = get_loss(output, batch_y)\n",
    "        batch_loss.append(loss.item())\n",
    "\n",
    "        # print(output.shape, batch_y.shape, loss)\n",
    "        loss.backward()\n",
    "        optimizer.step()\n",
    "        \n",
    "        if step % 10 == 0:\n",
    "            print('Epoch %d Batch %d: Train Loss = %.4f'%(each_epoch, step, torch.mean(torch.Tensor(batch_loss))))\n",
    " "
   ]
  }
 ],
 "metadata": {
  "interpreter": {
   "hash": "7dcfc096ef13b95f30f09234d13c16e463dbf760c5a41a06cf3b4dd8ab5dccc1"
  },
  "kernelspec": {
   "display_name": "Python (base1)",
   "language": "python",
   "name": "python3"
  },
  "language_info": {
   "codemirror_mode": {
    "name": "ipython",
    "version": 3
   },
   "file_extension": ".py",
   "mimetype": "text/x-python",
   "name": "python",
   "nbconvert_exporter": "python",
   "pygments_lexer": "ipython3",
   "version": "3.9.5"
  },
  "toc": {
   "base_numbering": 1,
   "nav_menu": {},
   "number_sections": true,
   "sideBar": true,
   "skip_h1_title": false,
   "title_cell": "Table of Contents",
   "title_sidebar": "Contents",
   "toc_cell": false,
   "toc_position": {},
   "toc_section_display": true,
   "toc_window_display": false
  }
 },
 "nbformat": 4,
 "nbformat_minor": 2
}
