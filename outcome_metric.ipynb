{
 "cells": [
  {
   "cell_type": "code",
   "execution_count": 42,
   "metadata": {},
   "outputs": [],
   "source": [
    "import pandas as pd\n",
    "import numpy as np\n",
    "import torch"
   ]
  },
  {
   "cell_type": "code",
   "execution_count": 43,
   "metadata": {},
   "outputs": [],
   "source": [
    "y = [[[0, 5], [0, 0.5], [0, 0.5]],[[1, 5], [1, 1.7], [1, 2]]]\n",
    "y = torch.Tensor(y)"
   ]
  },
  {
   "cell_type": "code",
   "execution_count": 44,
   "metadata": {},
   "outputs": [
    {
     "data": {
      "text/plain": [
       "torch.Size([2, 3, 2])"
      ]
     },
     "execution_count": 44,
     "metadata": {},
     "output_type": "execute_result"
    }
   ],
   "source": [
    "y.shape"
   ]
  },
  {
   "cell_type": "code",
   "execution_count": 45,
   "metadata": {},
   "outputs": [
    {
     "name": "stdout",
     "output_type": "stream",
     "text": [
      "[0, 0, 1, tensor(-0.3000)]\n"
     ]
    }
   ],
   "source": [
    "# mortality outcome prediction task\n",
    "\n",
    "## suppose y[0]'s visits length = 1, y[1]'s visits length = 2\n",
    "\n",
    "# model's output\n",
    "out = torch.randn((2, 3, 2))\n",
    "\n",
    "\n",
    "metric = []\n",
    "for i in range(len(out)):\n",
    "    cur_vis_len = 2\n",
    "    for j in range(cur_vis_len):\n",
    "        cur_out = out[i, j, :]\n",
    "        cur_gt = y[i, j, :]\n",
    "        if cur_out[0] > 0.5 and cur_gt[0] == 1: # 预测死亡, 实际最终死亡\n",
    "            # 判断实际的当前los\n",
    "            if cur_gt[1] >= 2: # 早期预测对\n",
    "                metric.append(1)\n",
    "            elif 2 > cur_gt[1] > 1: # 中期预测对\n",
    "                score = cur_gt[1] - 1\n",
    "                metric.append(score)\n",
    "            elif cur_gt[1] <= 1: # 晚期预测对\n",
    "                metric.append(0)\n",
    "        elif cur_out[0] <= 0.5 and cur_gt[0] == 1: # 预测存活, 实际最终死亡\n",
    "            if cur_gt[1] >= 2: # 早期预测错，没关系\n",
    "                metric.append(0)\n",
    "            elif 2 > cur_gt[1] > 1: # 中期预测错\n",
    "                score = cur_gt[1] - 2\n",
    "                metric.append(score)\n",
    "            elif cur_gt[1] <= 1: # 晚期预测错\n",
    "                metric.append(-1)\n",
    "        else:\n",
    "            # 其他case不关心，score为0即可\n",
    "            metric.append(0)\n",
    "\n",
    "print(metric)"
   ]
  }
 ],
 "metadata": {
  "interpreter": {
   "hash": "e382889b16d65b8f9d2caeea05d88db6d501b8794eac9af8ee0956d5affe33e5"
  },
  "kernelspec": {
   "display_name": "Python 3.9.5 ('pytorch')",
   "language": "python",
   "name": "python3"
  },
  "language_info": {
   "codemirror_mode": {
    "name": "ipython",
    "version": 3
   },
   "file_extension": ".py",
   "mimetype": "text/x-python",
   "name": "python",
   "nbconvert_exporter": "python",
   "pygments_lexer": "ipython3",
   "version": "3.9.5"
  },
  "orig_nbformat": 4
 },
 "nbformat": 4,
 "nbformat_minor": 2
}
